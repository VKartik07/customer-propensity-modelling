{
 "cells": [
  {
   "cell_type": "markdown",
   "id": "e82a87bf",
   "metadata": {},
   "source": [
    "# Customer Propensity Modelling"
   ]
  },
  {
   "cell_type": "code",
   "execution_count": 1,
   "id": "7f1278c6",
   "metadata": {},
   "outputs": [],
   "source": [
    "import zipfile\n",
    "import pandas as pd\n",
    "import numpy as np\n",
    "import matplotlib.pyplot as plt\n",
    "import seaborn as sns\n",
    "%matplotlib inline"
   ]
  },
  {
   "cell_type": "markdown",
   "id": "57acc977",
   "metadata": {},
   "source": [
    "## Data Extraction"
   ]
  },
  {
   "cell_type": "code",
   "execution_count": 2,
   "id": "46b68a58",
   "metadata": {},
   "outputs": [],
   "source": [
    "path_to_zip_file = './Data/archive.zip'"
   ]
  },
  {
   "cell_type": "code",
   "execution_count": 3,
   "id": "136e13f9",
   "metadata": {},
   "outputs": [],
   "source": [
    "def file_extraction(path_to_zip_file):\n",
    "    with zipfile.ZipFile(path_to_zip_file, mode=\"r\") as archive:\n",
    "        for filename in archive.namelist():\n",
    "            if filename[filename.index('.')+1:] == 'csv':\n",
    "                df = pd.read_csv(archive.open(filename)) \n",
    "    return df"
   ]
  },
  {
   "cell_type": "code",
   "execution_count": 4,
   "id": "320b0fe7",
   "metadata": {},
   "outputs": [],
   "source": [
    "marketing_df = file_extraction(path_to_zip_file)"
   ]
  },
  {
   "cell_type": "markdown",
   "id": "5f8e0c59",
   "metadata": {},
   "source": [
    "## Data Cleaning"
   ]
  },
  {
   "cell_type": "markdown",
   "id": "683e6c65",
   "metadata": {},
   "source": [
    "### Columns Extraction"
   ]
  },
  {
   "cell_type": "code",
   "execution_count": 5,
   "id": "2e2aab42",
   "metadata": {},
   "outputs": [],
   "source": [
    "columns_list = marketing_df.columns.tolist()\n",
    "marketing_df_column_names = columns_list[0].split(\";\")"
   ]
  },
  {
   "cell_type": "code",
   "execution_count": 6,
   "id": "08079c2c",
   "metadata": {},
   "outputs": [
    {
     "data": {
      "text/plain": [
       "29"
      ]
     },
     "execution_count": 6,
     "metadata": {},
     "output_type": "execute_result"
    }
   ],
   "source": [
    "len(marketing_df_column_names) #Verified that they are 29 columns present in the dataset"
   ]
  },
  {
   "cell_type": "markdown",
   "id": "70a8e5af",
   "metadata": {},
   "source": [
    "### Rows Extraction"
   ]
  },
  {
   "cell_type": "code",
   "execution_count": 7,
   "id": "c66e96bc",
   "metadata": {},
   "outputs": [],
   "source": [
    "row_list = []\n",
    "for i in range(len(marketing_df)):\n",
    "    row = marketing_df.iloc[i].tolist()[0].split(\";\")\n",
    "    row_list.append(row)"
   ]
  },
  {
   "cell_type": "code",
   "execution_count": 8,
   "id": "c2440f75",
   "metadata": {},
   "outputs": [],
   "source": [
    "cleaned_marketing_df = pd.DataFrame(row_list, columns = marketing_df_column_names)"
   ]
  },
  {
   "cell_type": "code",
   "execution_count": 9,
   "id": "485571d5",
   "metadata": {},
   "outputs": [
    {
     "data": {
      "text/html": [
       "<div>\n",
       "<style scoped>\n",
       "    .dataframe tbody tr th:only-of-type {\n",
       "        vertical-align: middle;\n",
       "    }\n",
       "\n",
       "    .dataframe tbody tr th {\n",
       "        vertical-align: top;\n",
       "    }\n",
       "\n",
       "    .dataframe thead th {\n",
       "        text-align: right;\n",
       "    }\n",
       "</style>\n",
       "<table border=\"1\" class=\"dataframe\">\n",
       "  <thead>\n",
       "    <tr style=\"text-align: right;\">\n",
       "      <th></th>\n",
       "      <th>ID</th>\n",
       "      <th>Year_Birth</th>\n",
       "      <th>Education</th>\n",
       "      <th>Marital_Status</th>\n",
       "      <th>Income</th>\n",
       "      <th>Kidhome</th>\n",
       "      <th>Teenhome</th>\n",
       "      <th>Dt_Customer</th>\n",
       "      <th>Recency</th>\n",
       "      <th>MntWines</th>\n",
       "      <th>...</th>\n",
       "      <th>NumWebVisitsMonth</th>\n",
       "      <th>AcceptedCmp3</th>\n",
       "      <th>AcceptedCmp4</th>\n",
       "      <th>AcceptedCmp5</th>\n",
       "      <th>AcceptedCmp1</th>\n",
       "      <th>AcceptedCmp2</th>\n",
       "      <th>Complain</th>\n",
       "      <th>Z_CostContact</th>\n",
       "      <th>Z_Revenue</th>\n",
       "      <th>Response</th>\n",
       "    </tr>\n",
       "  </thead>\n",
       "  <tbody>\n",
       "    <tr>\n",
       "      <th>0</th>\n",
       "      <td>5524</td>\n",
       "      <td>1957</td>\n",
       "      <td>Graduation</td>\n",
       "      <td>Single</td>\n",
       "      <td>58138</td>\n",
       "      <td>0</td>\n",
       "      <td>0</td>\n",
       "      <td>2012-09-04</td>\n",
       "      <td>58</td>\n",
       "      <td>635</td>\n",
       "      <td>...</td>\n",
       "      <td>7</td>\n",
       "      <td>0</td>\n",
       "      <td>0</td>\n",
       "      <td>0</td>\n",
       "      <td>0</td>\n",
       "      <td>0</td>\n",
       "      <td>0</td>\n",
       "      <td>3</td>\n",
       "      <td>11</td>\n",
       "      <td>1</td>\n",
       "    </tr>\n",
       "    <tr>\n",
       "      <th>1</th>\n",
       "      <td>2174</td>\n",
       "      <td>1954</td>\n",
       "      <td>Graduation</td>\n",
       "      <td>Single</td>\n",
       "      <td>46344</td>\n",
       "      <td>1</td>\n",
       "      <td>1</td>\n",
       "      <td>2014-03-08</td>\n",
       "      <td>38</td>\n",
       "      <td>11</td>\n",
       "      <td>...</td>\n",
       "      <td>5</td>\n",
       "      <td>0</td>\n",
       "      <td>0</td>\n",
       "      <td>0</td>\n",
       "      <td>0</td>\n",
       "      <td>0</td>\n",
       "      <td>0</td>\n",
       "      <td>3</td>\n",
       "      <td>11</td>\n",
       "      <td>0</td>\n",
       "    </tr>\n",
       "    <tr>\n",
       "      <th>2</th>\n",
       "      <td>4141</td>\n",
       "      <td>1965</td>\n",
       "      <td>Graduation</td>\n",
       "      <td>Together</td>\n",
       "      <td>71613</td>\n",
       "      <td>0</td>\n",
       "      <td>0</td>\n",
       "      <td>2013-08-21</td>\n",
       "      <td>26</td>\n",
       "      <td>426</td>\n",
       "      <td>...</td>\n",
       "      <td>4</td>\n",
       "      <td>0</td>\n",
       "      <td>0</td>\n",
       "      <td>0</td>\n",
       "      <td>0</td>\n",
       "      <td>0</td>\n",
       "      <td>0</td>\n",
       "      <td>3</td>\n",
       "      <td>11</td>\n",
       "      <td>0</td>\n",
       "    </tr>\n",
       "    <tr>\n",
       "      <th>3</th>\n",
       "      <td>6182</td>\n",
       "      <td>1984</td>\n",
       "      <td>Graduation</td>\n",
       "      <td>Together</td>\n",
       "      <td>26646</td>\n",
       "      <td>1</td>\n",
       "      <td>0</td>\n",
       "      <td>2014-02-10</td>\n",
       "      <td>26</td>\n",
       "      <td>11</td>\n",
       "      <td>...</td>\n",
       "      <td>6</td>\n",
       "      <td>0</td>\n",
       "      <td>0</td>\n",
       "      <td>0</td>\n",
       "      <td>0</td>\n",
       "      <td>0</td>\n",
       "      <td>0</td>\n",
       "      <td>3</td>\n",
       "      <td>11</td>\n",
       "      <td>0</td>\n",
       "    </tr>\n",
       "    <tr>\n",
       "      <th>4</th>\n",
       "      <td>5324</td>\n",
       "      <td>1981</td>\n",
       "      <td>PhD</td>\n",
       "      <td>Married</td>\n",
       "      <td>58293</td>\n",
       "      <td>1</td>\n",
       "      <td>0</td>\n",
       "      <td>2014-01-19</td>\n",
       "      <td>94</td>\n",
       "      <td>173</td>\n",
       "      <td>...</td>\n",
       "      <td>5</td>\n",
       "      <td>0</td>\n",
       "      <td>0</td>\n",
       "      <td>0</td>\n",
       "      <td>0</td>\n",
       "      <td>0</td>\n",
       "      <td>0</td>\n",
       "      <td>3</td>\n",
       "      <td>11</td>\n",
       "      <td>0</td>\n",
       "    </tr>\n",
       "  </tbody>\n",
       "</table>\n",
       "<p>5 rows × 29 columns</p>\n",
       "</div>"
      ],
      "text/plain": [
       "     ID Year_Birth   Education Marital_Status Income Kidhome Teenhome  \\\n",
       "0  5524       1957  Graduation         Single  58138       0        0   \n",
       "1  2174       1954  Graduation         Single  46344       1        1   \n",
       "2  4141       1965  Graduation       Together  71613       0        0   \n",
       "3  6182       1984  Graduation       Together  26646       1        0   \n",
       "4  5324       1981         PhD        Married  58293       1        0   \n",
       "\n",
       "  Dt_Customer Recency MntWines  ... NumWebVisitsMonth AcceptedCmp3  \\\n",
       "0  2012-09-04      58      635  ...                 7            0   \n",
       "1  2014-03-08      38       11  ...                 5            0   \n",
       "2  2013-08-21      26      426  ...                 4            0   \n",
       "3  2014-02-10      26       11  ...                 6            0   \n",
       "4  2014-01-19      94      173  ...                 5            0   \n",
       "\n",
       "  AcceptedCmp4 AcceptedCmp5 AcceptedCmp1 AcceptedCmp2 Complain Z_CostContact  \\\n",
       "0            0            0            0            0        0             3   \n",
       "1            0            0            0            0        0             3   \n",
       "2            0            0            0            0        0             3   \n",
       "3            0            0            0            0        0             3   \n",
       "4            0            0            0            0        0             3   \n",
       "\n",
       "  Z_Revenue Response  \n",
       "0        11        1  \n",
       "1        11        0  \n",
       "2        11        0  \n",
       "3        11        0  \n",
       "4        11        0  \n",
       "\n",
       "[5 rows x 29 columns]"
      ]
     },
     "execution_count": 9,
     "metadata": {},
     "output_type": "execute_result"
    }
   ],
   "source": [
    "cleaned_marketing_df.head()"
   ]
  },
  {
   "cell_type": "markdown",
   "id": "0c36f660",
   "metadata": {},
   "source": [
    "### NULL Value Analysis"
   ]
  },
  {
   "cell_type": "code",
   "execution_count": 10,
   "id": "d3e53d76",
   "metadata": {},
   "outputs": [
    {
     "data": {
      "text/plain": [
       "ID                     0\n",
       "Year_Birth             0\n",
       "Education              0\n",
       "Marital_Status         0\n",
       "Income                 0\n",
       "Kidhome                0\n",
       "Teenhome               0\n",
       "Dt_Customer            0\n",
       "Recency                0\n",
       "MntWines               0\n",
       "MntFruits              0\n",
       "MntMeatProducts        0\n",
       "MntFishProducts        0\n",
       "MntSweetProducts       0\n",
       "MntGoldProds           0\n",
       "NumDealsPurchases      0\n",
       "NumWebPurchases        0\n",
       "NumCatalogPurchases    0\n",
       "NumStorePurchases      0\n",
       "NumWebVisitsMonth      0\n",
       "AcceptedCmp3           0\n",
       "AcceptedCmp4           0\n",
       "AcceptedCmp5           0\n",
       "AcceptedCmp1           0\n",
       "AcceptedCmp2           0\n",
       "Complain               0\n",
       "Z_CostContact          0\n",
       "Z_Revenue              0\n",
       "Response               0\n",
       "dtype: int64"
      ]
     },
     "execution_count": 10,
     "metadata": {},
     "output_type": "execute_result"
    }
   ],
   "source": [
    "cleaned_marketing_df.isnull().sum()"
   ]
  },
  {
   "cell_type": "markdown",
   "id": "19c65e2c",
   "metadata": {},
   "source": [
    "### Empty String Analysis"
   ]
  },
  {
   "cell_type": "code",
   "execution_count": 11,
   "id": "c915c51f",
   "metadata": {},
   "outputs": [],
   "source": [
    "def empty_strings_in_columns(df):\n",
    "    null_count_dictionary = {}\n",
    "    null_count_column_names = []\n",
    "    for j in df.columns.tolist():\n",
    "        count = 0\n",
    "        for i in df[j]:\n",
    "            if i == '':\n",
    "                count = count + 1\n",
    "        null_count_dictionary[j] = count\n",
    "    for key, value in null_count_dictionary.items():\n",
    "        if value > 0:\n",
    "            null_count_column_names.append(key)\n",
    "    return null_count_column_names, null_count_dictionary"
   ]
  },
  {
   "cell_type": "code",
   "execution_count": 12,
   "id": "4c6fe665",
   "metadata": {},
   "outputs": [],
   "source": [
    "columns_containing_empty_string, null_count_dictionary = empty_strings_in_columns(cleaned_marketing_df)"
   ]
  },
  {
   "cell_type": "code",
   "execution_count": 13,
   "id": "07b4c82d",
   "metadata": {},
   "outputs": [
    {
     "data": {
      "text/plain": [
       "{'ID': 0,\n",
       " 'Year_Birth': 0,\n",
       " 'Education': 0,\n",
       " 'Marital_Status': 0,\n",
       " 'Income': 24,\n",
       " 'Kidhome': 0,\n",
       " 'Teenhome': 0,\n",
       " 'Dt_Customer': 0,\n",
       " 'Recency': 0,\n",
       " 'MntWines': 0,\n",
       " 'MntFruits': 0,\n",
       " 'MntMeatProducts': 0,\n",
       " 'MntFishProducts': 0,\n",
       " 'MntSweetProducts': 0,\n",
       " 'MntGoldProds': 0,\n",
       " 'NumDealsPurchases': 0,\n",
       " 'NumWebPurchases': 0,\n",
       " 'NumCatalogPurchases': 0,\n",
       " 'NumStorePurchases': 0,\n",
       " 'NumWebVisitsMonth': 0,\n",
       " 'AcceptedCmp3': 0,\n",
       " 'AcceptedCmp4': 0,\n",
       " 'AcceptedCmp5': 0,\n",
       " 'AcceptedCmp1': 0,\n",
       " 'AcceptedCmp2': 0,\n",
       " 'Complain': 0,\n",
       " 'Z_CostContact': 0,\n",
       " 'Z_Revenue': 0,\n",
       " 'Response': 0}"
      ]
     },
     "execution_count": 13,
     "metadata": {},
     "output_type": "execute_result"
    }
   ],
   "source": [
    "null_count_dictionary"
   ]
  },
  {
   "cell_type": "code",
   "execution_count": 14,
   "id": "4b2acfdb",
   "metadata": {},
   "outputs": [
    {
     "data": {
      "text/plain": [
       "['Income']"
      ]
     },
     "execution_count": 14,
     "metadata": {},
     "output_type": "execute_result"
    }
   ],
   "source": [
    "columns_containing_empty_string"
   ]
  },
  {
   "cell_type": "markdown",
   "id": "605e10d6",
   "metadata": {},
   "source": [
    "### Data Type Verification"
   ]
  },
  {
   "cell_type": "code",
   "execution_count": 15,
   "id": "4b666242",
   "metadata": {},
   "outputs": [
    {
     "name": "stdout",
     "output_type": "stream",
     "text": [
      "<class 'pandas.core.frame.DataFrame'>\n",
      "RangeIndex: 2240 entries, 0 to 2239\n",
      "Data columns (total 29 columns):\n",
      " #   Column               Non-Null Count  Dtype \n",
      "---  ------               --------------  ----- \n",
      " 0   ID                   2240 non-null   object\n",
      " 1   Year_Birth           2240 non-null   object\n",
      " 2   Education            2240 non-null   object\n",
      " 3   Marital_Status       2240 non-null   object\n",
      " 4   Income               2240 non-null   object\n",
      " 5   Kidhome              2240 non-null   object\n",
      " 6   Teenhome             2240 non-null   object\n",
      " 7   Dt_Customer          2240 non-null   object\n",
      " 8   Recency              2240 non-null   object\n",
      " 9   MntWines             2240 non-null   object\n",
      " 10  MntFruits            2240 non-null   object\n",
      " 11  MntMeatProducts      2240 non-null   object\n",
      " 12  MntFishProducts      2240 non-null   object\n",
      " 13  MntSweetProducts     2240 non-null   object\n",
      " 14  MntGoldProds         2240 non-null   object\n",
      " 15  NumDealsPurchases    2240 non-null   object\n",
      " 16  NumWebPurchases      2240 non-null   object\n",
      " 17  NumCatalogPurchases  2240 non-null   object\n",
      " 18  NumStorePurchases    2240 non-null   object\n",
      " 19  NumWebVisitsMonth    2240 non-null   object\n",
      " 20  AcceptedCmp3         2240 non-null   object\n",
      " 21  AcceptedCmp4         2240 non-null   object\n",
      " 22  AcceptedCmp5         2240 non-null   object\n",
      " 23  AcceptedCmp1         2240 non-null   object\n",
      " 24  AcceptedCmp2         2240 non-null   object\n",
      " 25  Complain             2240 non-null   object\n",
      " 26  Z_CostContact        2240 non-null   object\n",
      " 27  Z_Revenue            2240 non-null   object\n",
      " 28  Response             2240 non-null   object\n",
      "dtypes: object(29)\n",
      "memory usage: 507.6+ KB\n"
     ]
    }
   ],
   "source": [
    "cleaned_marketing_df.info()"
   ]
  },
  {
   "cell_type": "code",
   "execution_count": 16,
   "id": "f2b386a7",
   "metadata": {},
   "outputs": [],
   "source": [
    "def integer_float_bool_indentifier(empty_string_columns, df):\n",
    "    \"\"\"\n",
    "    \n",
    "    To find the integer/float/boolean valued columns out of a list of columns\n",
    "    \n",
    "    \"\"\"\n",
    "    integer_float_valued_columns = []\n",
    "    boolean_valued_columns = []\n",
    "    for i in empty_string_columns:\n",
    "        if df[i].nunique() >=3:\n",
    "            integer_float_valued_columns.append(i)\n",
    "        else:\n",
    "             boolean_valued_columns.append(i)\n",
    "    return integer_float_valued_columns, boolean_valued_columns"
   ]
  },
  {
   "cell_type": "code",
   "execution_count": 17,
   "id": "5d0c4489",
   "metadata": {},
   "outputs": [],
   "source": [
    "integer_float_valued_marketing_df_columns, boolean_valued_marketing_df_columns = integer_float_bool_indentifier(columns_containing_empty_string, cleaned_marketing_df)"
   ]
  },
  {
   "cell_type": "code",
   "execution_count": 18,
   "id": "b5aed909",
   "metadata": {},
   "outputs": [
    {
     "data": {
      "text/plain": [
       "['Income']"
      ]
     },
     "execution_count": 18,
     "metadata": {},
     "output_type": "execute_result"
    }
   ],
   "source": [
    "integer_float_valued_marketing_df_columns"
   ]
  },
  {
   "cell_type": "code",
   "execution_count": 19,
   "id": "beb65687",
   "metadata": {},
   "outputs": [
    {
     "data": {
      "text/plain": [
       "[]"
      ]
     },
     "execution_count": 19,
     "metadata": {},
     "output_type": "execute_result"
    }
   ],
   "source": [
    "boolean_valued_marketing_df_columns"
   ]
  },
  {
   "cell_type": "code",
   "execution_count": 20,
   "id": "03633fa6",
   "metadata": {},
   "outputs": [
    {
     "data": {
      "text/plain": [
       "3    2240\n",
       "Name: Z_CostContact, dtype: int64"
      ]
     },
     "execution_count": 20,
     "metadata": {},
     "output_type": "execute_result"
    }
   ],
   "source": [
    "cleaned_marketing_df.Z_CostContact.value_counts() #Will be treated as Integer"
   ]
  },
  {
   "cell_type": "code",
   "execution_count": 21,
   "id": "7e6e42ad",
   "metadata": {},
   "outputs": [
    {
     "data": {
      "text/plain": [
       "11    2240\n",
       "Name: Z_Revenue, dtype: int64"
      ]
     },
     "execution_count": 21,
     "metadata": {},
     "output_type": "execute_result"
    }
   ],
   "source": [
    "cleaned_marketing_df.Z_Revenue.value_counts() #Will be treated as Integer"
   ]
  },
  {
   "cell_type": "markdown",
   "id": "07015e8c",
   "metadata": {},
   "source": [
    "- After checking the documentation of the dataset, the following columns are taken as integer, float, date, boolean, type\n",
    "    - Float - 'Income',  'MntWines', 'MntFruits', 'MntMeatProducts', 'MntFishProducts', 'MntSweetProducts', 'MntGoldProds'\n",
    "    - Integer - 'Kidhome', 'Teenhome', 'Recency', 'NumDealsPurchases', 'NumWebPurchases', 'NumCatalogPurchases',  'NumStorePurchases', 'NumWebVisitsMonth', 'Z_CostContact', 'Z_Revenue', 'Year_Birth'\n",
    "    - Date - 'Dt_Customer'\n",
    "    - Boolean - 'AcceptedCmp3', 'AcceptedCmp4', 'AcceptedCmp5', 'AcceptedCmp1', 'AcceptedCmp2', 'Complain', 'Response'\n",
    "    - String/Object - 'ID', 'Education', 'Marital_Status'  "
   ]
  },
  {
   "cell_type": "markdown",
   "id": "b59989d4",
   "metadata": {},
   "source": [
    "### Changing Data Types and Data Imputation"
   ]
  },
  {
   "cell_type": "markdown",
   "id": "318ffd3f",
   "metadata": {},
   "source": [
    "> Date Type Columns"
   ]
  },
  {
   "cell_type": "code",
   "execution_count": 22,
   "id": "09027966",
   "metadata": {},
   "outputs": [],
   "source": [
    "cleaned_marketing_df['Dt_Customer'] = cleaned_marketing_df['Dt_Customer'].astype('datetime64[ns]')"
   ]
  },
  {
   "cell_type": "markdown",
   "id": "68cddd00",
   "metadata": {},
   "source": [
    "> Integer Columns | Booleans in this case will also be treated as integer for better analysis"
   ]
  },
  {
   "cell_type": "code",
   "execution_count": 23,
   "id": "dc69911e",
   "metadata": {},
   "outputs": [],
   "source": [
    "for i in ['Kidhome', 'Teenhome', 'Recency', 'NumDealsPurchases', 'NumWebPurchases', 'NumCatalogPurchases', 'NumStorePurchases', 'NumWebVisitsMonth', 'Z_CostContact', 'Z_Revenue', 'Year_Birth', 'AcceptedCmp3', 'AcceptedCmp4', 'AcceptedCmp5', 'AcceptedCmp1', 'AcceptedCmp2', 'Complain', 'Response']:\n",
    "    cleaned_marketing_df[i] = cleaned_marketing_df[i].astype('str').astype('int')"
   ]
  },
  {
   "cell_type": "markdown",
   "id": "724d0662",
   "metadata": {},
   "source": [
    "> Float Columns"
   ]
  },
  {
   "cell_type": "code",
   "execution_count": 24,
   "id": "4dd553d1",
   "metadata": {},
   "outputs": [],
   "source": [
    "## For Income Column as it contains empty strings\n",
    "cleaned_marketing_df['Income'] = cleaned_marketing_df['Income'].replace('', '0')\n",
    "cleaned_marketing_df['Income'] = cleaned_marketing_df['Income'].astype('str').astype('float')\n",
    "cleaned_marketing_df['Income'] = cleaned_marketing_df['Income'].replace(0, np.mean(cleaned_marketing_df['Income']))"
   ]
  },
  {
   "cell_type": "code",
   "execution_count": 25,
   "id": "80174156",
   "metadata": {},
   "outputs": [],
   "source": [
    "for i in  ['MntWines', 'MntFruits', 'MntMeatProducts', 'MntFishProducts', 'MntSweetProducts', 'MntGoldProds']:\n",
    "    cleaned_marketing_df[i] = cleaned_marketing_df[i].astype('str').astype('float')"
   ]
  },
  {
   "cell_type": "code",
   "execution_count": 26,
   "id": "f8933179",
   "metadata": {},
   "outputs": [
    {
     "name": "stdout",
     "output_type": "stream",
     "text": [
      "<class 'pandas.core.frame.DataFrame'>\n",
      "RangeIndex: 2240 entries, 0 to 2239\n",
      "Data columns (total 29 columns):\n",
      " #   Column               Non-Null Count  Dtype         \n",
      "---  ------               --------------  -----         \n",
      " 0   ID                   2240 non-null   object        \n",
      " 1   Year_Birth           2240 non-null   int32         \n",
      " 2   Education            2240 non-null   object        \n",
      " 3   Marital_Status       2240 non-null   object        \n",
      " 4   Income               2240 non-null   float64       \n",
      " 5   Kidhome              2240 non-null   int32         \n",
      " 6   Teenhome             2240 non-null   int32         \n",
      " 7   Dt_Customer          2240 non-null   datetime64[ns]\n",
      " 8   Recency              2240 non-null   int32         \n",
      " 9   MntWines             2240 non-null   float64       \n",
      " 10  MntFruits            2240 non-null   float64       \n",
      " 11  MntMeatProducts      2240 non-null   float64       \n",
      " 12  MntFishProducts      2240 non-null   float64       \n",
      " 13  MntSweetProducts     2240 non-null   float64       \n",
      " 14  MntGoldProds         2240 non-null   float64       \n",
      " 15  NumDealsPurchases    2240 non-null   int32         \n",
      " 16  NumWebPurchases      2240 non-null   int32         \n",
      " 17  NumCatalogPurchases  2240 non-null   int32         \n",
      " 18  NumStorePurchases    2240 non-null   int32         \n",
      " 19  NumWebVisitsMonth    2240 non-null   int32         \n",
      " 20  AcceptedCmp3         2240 non-null   int32         \n",
      " 21  AcceptedCmp4         2240 non-null   int32         \n",
      " 22  AcceptedCmp5         2240 non-null   int32         \n",
      " 23  AcceptedCmp1         2240 non-null   int32         \n",
      " 24  AcceptedCmp2         2240 non-null   int32         \n",
      " 25  Complain             2240 non-null   int32         \n",
      " 26  Z_CostContact        2240 non-null   int32         \n",
      " 27  Z_Revenue            2240 non-null   int32         \n",
      " 28  Response             2240 non-null   int32         \n",
      "dtypes: datetime64[ns](1), float64(7), int32(18), object(3)\n",
      "memory usage: 350.1+ KB\n"
     ]
    }
   ],
   "source": [
    "cleaned_marketing_df.info()"
   ]
  },
  {
   "cell_type": "markdown",
   "id": "6fdfb097",
   "metadata": {},
   "source": [
    "## Data Transformation | Feature Engineering"
   ]
  },
  {
   "cell_type": "code",
   "execution_count": 27,
   "id": "bfd34f7b",
   "metadata": {},
   "outputs": [],
   "source": [
    "cleaned_marketing_df_engineered = cleaned_marketing_df.copy()"
   ]
  },
  {
   "cell_type": "markdown",
   "id": "0de84b02",
   "metadata": {},
   "source": [
    "### ID Column"
   ]
  },
  {
   "cell_type": "code",
   "execution_count": 28,
   "id": "0ba876db",
   "metadata": {},
   "outputs": [],
   "source": [
    "cleaned_marketing_df_engineered.drop(columns = ['ID'], inplace=True)"
   ]
  },
  {
   "cell_type": "markdown",
   "id": "eebd4b7d",
   "metadata": {},
   "source": [
    "### Education Column"
   ]
  },
  {
   "cell_type": "code",
   "execution_count": 29,
   "id": "11009a06",
   "metadata": {},
   "outputs": [
    {
     "data": {
      "text/plain": [
       "Graduation    1127\n",
       "PhD            486\n",
       "Master         370\n",
       "2n Cycle       203\n",
       "Basic           54\n",
       "Name: Education, dtype: int64"
      ]
     },
     "execution_count": 29,
     "metadata": {},
     "output_type": "execute_result"
    }
   ],
   "source": [
    "cleaned_marketing_df_engineered.Education.value_counts()"
   ]
  },
  {
   "cell_type": "markdown",
   "id": "b6a87a28",
   "metadata": {},
   "source": [
    "- After doing a research on different education levels\n",
    "    - 2n Cycle is a seperate multi-disciplinary program and hence should not be merged with Graduation or Master\n",
    "    - Basic is going to assumed as customers who have done education till their high school. Hence, Basic will be renamed as High-School"
   ]
  },
  {
   "cell_type": "code",
   "execution_count": 30,
   "id": "9865633e",
   "metadata": {},
   "outputs": [],
   "source": [
    "cleaned_marketing_df_engineered.Education = cleaned_marketing_df_engineered.Education.replace('Basic', 'High School')"
   ]
  },
  {
   "cell_type": "code",
   "execution_count": 31,
   "id": "c5a2ac0d",
   "metadata": {},
   "outputs": [
    {
     "data": {
      "text/plain": [
       "Graduation     1127\n",
       "PhD             486\n",
       "Master          370\n",
       "2n Cycle        203\n",
       "High School      54\n",
       "Name: Education, dtype: int64"
      ]
     },
     "execution_count": 31,
     "metadata": {},
     "output_type": "execute_result"
    }
   ],
   "source": [
    "cleaned_marketing_df_engineered.Education.value_counts()"
   ]
  },
  {
   "cell_type": "markdown",
   "id": "1851167b",
   "metadata": {},
   "source": [
    "### Marital Status Column"
   ]
  },
  {
   "cell_type": "code",
   "execution_count": 32,
   "id": "54b75d6b",
   "metadata": {},
   "outputs": [
    {
     "data": {
      "text/plain": [
       "Married     864\n",
       "Together    580\n",
       "Single      480\n",
       "Divorced    232\n",
       "Widow        77\n",
       "Alone         3\n",
       "Absurd        2\n",
       "YOLO          2\n",
       "Name: Marital_Status, dtype: int64"
      ]
     },
     "execution_count": 32,
     "metadata": {},
     "output_type": "execute_result"
    }
   ],
   "source": [
    "cleaned_marketing_df_engineered.Marital_Status.value_counts()"
   ]
  },
  {
   "cell_type": "markdown",
   "id": "b156ed88",
   "metadata": {},
   "source": [
    "- Combining different levels in order to have two categories - Single and Married"
   ]
  },
  {
   "cell_type": "code",
   "execution_count": 33,
   "id": "49f786f9",
   "metadata": {},
   "outputs": [],
   "source": [
    "cleaned_marketing_df_engineered.Marital_Status = cleaned_marketing_df_engineered.Marital_Status.replace(['Divorced', 'Widow', 'Alone', 'Absurd', 'YOLO'], 'Single')\n",
    "cleaned_marketing_df_engineered.Marital_Status = cleaned_marketing_df_engineered.Marital_Status.replace('Together', 'Married')"
   ]
  },
  {
   "cell_type": "code",
   "execution_count": 34,
   "id": "06e29567",
   "metadata": {},
   "outputs": [
    {
     "data": {
      "text/plain": [
       "Married    1444\n",
       "Single      796\n",
       "Name: Marital_Status, dtype: int64"
      ]
     },
     "execution_count": 34,
     "metadata": {},
     "output_type": "execute_result"
    }
   ],
   "source": [
    "cleaned_marketing_df_engineered.Marital_Status.value_counts()"
   ]
  },
  {
   "cell_type": "markdown",
   "id": "b5083fe3",
   "metadata": {},
   "source": [
    "### Kidhome and Teenhome Column"
   ]
  },
  {
   "cell_type": "code",
   "execution_count": 35,
   "id": "74c3a914",
   "metadata": {},
   "outputs": [],
   "source": [
    "cleaned_marketing_df_engineered['Minorshome'] = 0"
   ]
  },
  {
   "cell_type": "code",
   "execution_count": 36,
   "id": "0b46a5ea",
   "metadata": {},
   "outputs": [],
   "source": [
    "cleaned_marketing_df_engineered['Minorshome'] = cleaned_marketing_df_engineered.loc[:, ['Kidhome', 'Teenhome']].sum(axis=1) #Sum of Teens and Kids"
   ]
  },
  {
   "cell_type": "code",
   "execution_count": 37,
   "id": "429f75ec",
   "metadata": {},
   "outputs": [],
   "source": [
    "cleaned_marketing_df_engineered.drop(columns = ['Kidhome', 'Teenhome'], inplace=True)"
   ]
  },
  {
   "cell_type": "markdown",
   "id": "14e779cc",
   "metadata": {},
   "source": [
    "### Total Amount Spent"
   ]
  },
  {
   "cell_type": "code",
   "execution_count": 38,
   "id": "ef912542",
   "metadata": {},
   "outputs": [],
   "source": [
    "cleaned_marketing_df_engineered['TotalMnt'] = 0\n",
    "cleaned_marketing_df_engineered['TotalMnt'] = cleaned_marketing_df_engineered.loc[:, ['MntWines', 'MntFruits', 'MntMeatProducts', 'MntFishProducts', 'MntSweetProducts', 'MntGoldProds']].sum(axis=1)"
   ]
  },
  {
   "cell_type": "markdown",
   "id": "da1e02e6",
   "metadata": {},
   "source": [
    "### Total Amount of Purchases"
   ]
  },
  {
   "cell_type": "code",
   "execution_count": 39,
   "id": "f459ed4a",
   "metadata": {},
   "outputs": [],
   "source": [
    "cleaned_marketing_df_engineered['TotalPurchases'] = 0\n",
    "cleaned_marketing_df_engineered['TotalPurchases'] = cleaned_marketing_df_engineered.loc[:, ['NumCatalogPurchases', 'NumStorePurchases', 'NumWebPurchases']].sum(axis=1)"
   ]
  },
  {
   "cell_type": "markdown",
   "id": "9cf83aee",
   "metadata": {},
   "source": [
    "### Number of Times participated in the Campaign"
   ]
  },
  {
   "cell_type": "code",
   "execution_count": 40,
   "id": "52a9c37b",
   "metadata": {},
   "outputs": [],
   "source": [
    "cleaned_marketing_df_engineered['TotalCampPar'] = 0\n",
    "cleaned_marketing_df_engineered['TotalCampPar'] = cleaned_marketing_df_engineered.loc[:, ['AcceptedCmp1', 'AcceptedCmp2', 'AcceptedCmp3', 'AcceptedCmp4', 'AcceptedCmp5']].sum(axis=1)"
   ]
  },
  {
   "cell_type": "markdown",
   "id": "04a1737a",
   "metadata": {},
   "source": [
    "### Age | The Age at which the customer enrolled themself in the company"
   ]
  },
  {
   "cell_type": "code",
   "execution_count": 41,
   "id": "8a6c7240",
   "metadata": {},
   "outputs": [],
   "source": [
    "cleaned_marketing_df_engineered['Age'] = 0\n",
    "cleaned_marketing_df_engineered['Age'] = cleaned_marketing_df_engineered.Dt_Customer.dt.year - cleaned_marketing_df_engineered.Year_Birth"
   ]
  },
  {
   "cell_type": "code",
   "execution_count": 42,
   "id": "4feb023c",
   "metadata": {},
   "outputs": [],
   "source": [
    "cleaned_marketing_df_engineered.drop(columns = ['Year_Birth'], inplace=True)"
   ]
  },
  {
   "cell_type": "markdown",
   "id": "e298a8e6",
   "metadata": {},
   "source": [
    "### Z_CostContact and Z_Revenue Column"
   ]
  },
  {
   "cell_type": "code",
   "execution_count": 43,
   "id": "6ac85152",
   "metadata": {},
   "outputs": [],
   "source": [
    "cleaned_marketing_df_engineered.drop(columns = ['Z_CostContact', 'Z_Revenue'], inplace = True) # 0 Variability"
   ]
  },
  {
   "cell_type": "code",
   "execution_count": 44,
   "id": "2bb94292",
   "metadata": {},
   "outputs": [
    {
     "name": "stdout",
     "output_type": "stream",
     "text": [
      "<class 'pandas.core.frame.DataFrame'>\n",
      "RangeIndex: 2240 entries, 0 to 2239\n",
      "Data columns (total 28 columns):\n",
      " #   Column               Non-Null Count  Dtype         \n",
      "---  ------               --------------  -----         \n",
      " 0   Education            2240 non-null   object        \n",
      " 1   Marital_Status       2240 non-null   object        \n",
      " 2   Income               2240 non-null   float64       \n",
      " 3   Dt_Customer          2240 non-null   datetime64[ns]\n",
      " 4   Recency              2240 non-null   int32         \n",
      " 5   MntWines             2240 non-null   float64       \n",
      " 6   MntFruits            2240 non-null   float64       \n",
      " 7   MntMeatProducts      2240 non-null   float64       \n",
      " 8   MntFishProducts      2240 non-null   float64       \n",
      " 9   MntSweetProducts     2240 non-null   float64       \n",
      " 10  MntGoldProds         2240 non-null   float64       \n",
      " 11  NumDealsPurchases    2240 non-null   int32         \n",
      " 12  NumWebPurchases      2240 non-null   int32         \n",
      " 13  NumCatalogPurchases  2240 non-null   int32         \n",
      " 14  NumStorePurchases    2240 non-null   int32         \n",
      " 15  NumWebVisitsMonth    2240 non-null   int32         \n",
      " 16  AcceptedCmp3         2240 non-null   int32         \n",
      " 17  AcceptedCmp4         2240 non-null   int32         \n",
      " 18  AcceptedCmp5         2240 non-null   int32         \n",
      " 19  AcceptedCmp1         2240 non-null   int32         \n",
      " 20  AcceptedCmp2         2240 non-null   int32         \n",
      " 21  Complain             2240 non-null   int32         \n",
      " 22  Response             2240 non-null   int32         \n",
      " 23  Minorshome           2240 non-null   int64         \n",
      " 24  TotalMnt             2240 non-null   float64       \n",
      " 25  TotalPurchases       2240 non-null   int64         \n",
      " 26  TotalCampPar         2240 non-null   int64         \n",
      " 27  Age                  2240 non-null   int64         \n",
      "dtypes: datetime64[ns](1), float64(8), int32(13), int64(4), object(2)\n",
      "memory usage: 376.4+ KB\n"
     ]
    }
   ],
   "source": [
    "cleaned_marketing_df_engineered.info()"
   ]
  },
  {
   "cell_type": "markdown",
   "id": "235e34f4",
   "metadata": {},
   "source": [
    "## Outlier Detection"
   ]
  },
  {
   "cell_type": "code",
   "execution_count": 45,
   "id": "70ff8701",
   "metadata": {},
   "outputs": [
    {
     "data": {
      "image/png": "[encoded data removed]",
      "text/plain": [
       "<Figure size 432x288 with 1 Axes>"
      ]
     },
     "metadata": {
      "needs_background": "light"
     },
     "output_type": "display_data"
    },
    {
     "data": {
      "image/png": "[encoded data removed]",
      "text/plain": [
       "<Figure size 432x288 with 1 Axes>"
      ]
     },
     "metadata": {
      "needs_background": "light"
     },
     "output_type": "display_data"
    },
    {
     "data": {
      "image/png": "[encoded data removed]",
      "text/plain": [
       "<Figure size 432x288 with 1 Axes>"
      ]
     },
     "metadata": {
      "needs_background": "light"
     },
     "output_type": "display_data"
    },
    {
     "data": {
      "image/png": "[encoded data removed]",
      "text/plain": [
       "<Figure size 432x288 with 1 Axes>"
      ]
     },
     "metadata": {
      "needs_background": "light"
     },
     "output_type": "display_data"
    },
    {
     "data": {
      "image/png": "[encoded data removed]",
      "text/plain": [
       "<Figure size 432x288 with 1 Axes>"
      ]
     },
     "metadata": {
      "needs_background": "light"
     },
     "output_type": "display_data"
    },
    {
     "data": {
      "image/png": "[encoded data removed]",
      "text/plain": [
       "<Figure size 432x288 with 1 Axes>"
      ]
     },
     "metadata": {
      "needs_background": "light"
     },
     "output_type": "display_data"
    },
    {
     "data": {
      "image/png": "[encoded data removed]",
      "text/plain": [
       "<Figure size 432x288 with 1 Axes>"
      ]
     },
     "metadata": {
      "needs_background": "light"
     },
     "output_type": "display_data"
    },
    {
     "data": {
      "image/png": "[encoded data removed]",
      "text/plain": [
       "<Figure size 432x288 with 1 Axes>"
      ]
     },
     "metadata": {
      "needs_background": "light"
     },
     "output_type": "display_data"
    },
    {
     "data": {
      "image/png": "[encoded data removed]",
      "text/plain": [
       "<Figure size 432x288 with 1 Axes>"
      ]
     },
     "metadata": {
      "needs_background": "light"
     },
     "output_type": "display_data"
    },
    {
     "data": {
      "image/png": "[encoded data removed]",
      "text/plain": [
       "<Figure size 432x288 with 1 Axes>"
      ]
     },
     "metadata": {
      "needs_background": "light"
     },
     "output_type": "display_data"
    },
    {
     "data": {
      "image/png": "[encoded data removed]",
      "text/plain": [
       "<Figure size 432x288 with 1 Axes>"
      ]
     },
     "metadata": {
      "needs_background": "light"
     },
     "output_type": "display_data"
    },
    {
     "data": {
      "image/png": "[encoded data removed]",
      "text/plain": [
       "<Figure size 432x288 with 1 Axes>"
      ]
     },
     "metadata": {
      "needs_background": "light"
     },
     "output_type": "display_data"
    },
    {
     "data": {
      "image/png": "[encoded data removed]",
      "text/plain": [
       "<Figure size 432x288 with 1 Axes>"
      ]
     },
     "metadata": {
      "needs_background": "light"
     },
     "output_type": "display_data"
    },
    {
     "data": {
      "image/png": "[encoded data removed]",
      "text/plain": [
       "<Figure size 432x288 with 1 Axes>"
      ]
     },
     "metadata": {
      "needs_background": "light"
     },
     "output_type": "display_data"
    },
    {
     "data": {
      "image/png": "[encoded data removed]",
      "text/plain": [
       "<Figure size 432x288 with 1 Axes>"
      ]
     },
     "metadata": {
      "needs_background": "light"
     },
     "output_type": "display_data"
    },
    {
     "data": {
      "image/png": "[encoded data removed]",
      "text/plain": [
       "<Figure size 432x288 with 1 Axes>"
      ]
     },
     "metadata": {
      "needs_background": "light"
     },
     "output_type": "display_data"
    },
    {
     "data": {
      "image/png": "[encoded data removed]",
      "text/plain": [
       "<Figure size 432x288 with 1 Axes>"
      ]
     },
     "metadata": {
      "needs_background": "light"
     },
     "output_type": "display_data"
    },
    {
     "data": {
      "image/png": "[encoded data removed]",
      "text/plain": [
       "<Figure size 432x288 with 1 Axes>"
      ]
     },
     "metadata": {
      "needs_background": "light"
     },
     "output_type": "display_data"
    },
    {
     "data": {
      "image/png": "[encoded data removed]",
      "text/plain": [
       "<Figure size 432x288 with 1 Axes>"
      ]
     },
     "metadata": {
      "needs_background": "light"
     },
     "output_type": "display_data"
    },
    {
     "data": {
      "image/png": "[encoded data removed]",
      "text/plain": [
       "<Figure size 432x288 with 1 Axes>"
      ]
     },
     "metadata": {
      "needs_background": "light"
     },
     "output_type": "display_data"
    },
    {
     "data": {
      "image/png": "[encoded data removed]",
      "text/plain": [
       "<Figure size 432x288 with 1 Axes>"
      ]
     },
     "metadata": {
      "needs_background": "light"
     },
     "output_type": "display_data"
    },
    {
     "data": {
      "image/png": "[encoded data removed]",
      "text/plain": [
       "<Figure size 432x288 with 1 Axes>"
      ]
     },
     "metadata": {
      "needs_background": "light"
     },
     "output_type": "display_data"
    },
    {
     "data": {
      "image/png": "[encoded data removed]",
      "text/plain": [
       "<Figure size 432x288 with 1 Axes>"
      ]
     },
     "metadata": {
      "needs_background": "light"
     },
     "output_type": "display_data"
    },
    {
     "data": {
      "image/png": "[encoded data removed]",
      "text/plain": [
       "<Figure size 432x288 with 1 Axes>"
      ]
     },
     "metadata": {
      "needs_background": "light"
     },
     "output_type": "display_data"
    },
    {
     "data": {
      "image/png": "[encoded data removed]",
      "text/plain": [
       "<Figure size 432x288 with 1 Axes>"
      ]
     },
     "metadata": {
      "needs_background": "light"
     },
     "output_type": "display_data"
    }
   ],
   "source": [
    "#Boxplots to visualise outliers\n",
    "for column in cleaned_marketing_df_engineered.columns.tolist():\n",
    "    if cleaned_marketing_df_engineered[column].dtypes in ['float32', 'float64', 'int32', 'int64']: \n",
    "        sns.boxplot(x=cleaned_marketing_df_engineered[column])\n",
    "        plt.show()"
   ]
  },
  {
   "cell_type": "code",
   "execution_count": 46,
   "id": "40c1a526",
   "metadata": {},
   "outputs": [],
   "source": [
    "def outlier_detection(df):\n",
    "    column_dictionary = {}\n",
    "    outlier_dictionary = {}\n",
    "    for column in df.columns.tolist():\n",
    "        if df[column].dtypes in ['float32', 'float64', 'int32', 'int64']: \n",
    "            Q1 = np.percentile(df[column], 25, interpolation = 'midpoint')\n",
    "            Q3 = np.percentile(df[column], 75, interpolation = 'midpoint')\n",
    "\n",
    "            IQR = Q3 - Q1\n",
    "            low_lim = Q1 - 1.5 * IQR\n",
    "            up_lim = Q3 + 1.5 * IQR\n",
    "\n",
    "            outlier_list = []\n",
    "            for value in df[column]:\n",
    "                if ((value> up_lim) or (value<low_lim)):\n",
    "                    outlier_list.append(value)\n",
    "\n",
    "            column_dictionary[column] = outlier_list\n",
    "            \n",
    "            for keys, values in column_dictionary.items():\n",
    "                if len(values) > 0 and len(set(values)) >=2:\n",
    "                    outlier_dictionary[keys] = values\n",
    "    return outlier_dictionary"
   ]
  },
  {
   "cell_type": "code",
   "execution_count": 47,
   "id": "c7a2e1d3",
   "metadata": {},
   "outputs": [],
   "source": [
    "outlier_marketing_df_dictionary = outlier_detection(cleaned_marketing_df_engineered)"
   ]
  },
  {
   "cell_type": "code",
   "execution_count": 48,
   "id": "d41bb20c",
   "metadata": {},
   "outputs": [
    {
     "name": "stdout",
     "output_type": "stream",
     "text": [
      "{'Income': [157243.0, 162397.0, 153924.0, 160803.0, 157733.0, 157146.0, 156924.0, 666666.0], 'MntWines': [1332.0, 1349.0, 1241.0, 1285.0, 1248.0, 1239.0, 1396.0, 1288.0, 1379.0, 1478.0, 1492.0, 1492.0, 1279.0, 1308.0, 1478.0, 1253.0, 1394.0, 1296.0, 1285.0, 1230.0, 1315.0, 1298.0, 1302.0, 1449.0, 1259.0, 1252.0, 1459.0, 1493.0, 1324.0, 1285.0, 1462.0, 1276.0, 1245.0, 1486.0, 1311.0], 'MntFruits': [88.0, 100.0, 164.0, 120.0, 107.0, 111.0, 105.0, 172.0, 106.0, 194.0, 115.0, 99.0, 90.0, 133.0, 106.0, 162.0, 189.0, 138.0, 86.0, 114.0, 153.0, 134.0, 148.0, 84.0, 162.0, 129.0, 98.0, 183.0, 129.0, 147.0, 138.0, 153.0, 144.0, 104.0, 91.0, 163.0, 134.0, 152.0, 105.0, 114.0, 137.0, 190.0, 96.0, 84.0, 162.0, 138.0, 83.0, 92.0, 134.0, 155.0, 151.0, 85.0, 129.0, 153.0, 129.0, 183.0, 127.0, 91.0, 107.0, 129.0, 103.0, 89.0, 105.0, 181.0, 112.0, 159.0, 134.0, 102.0, 86.0, 123.0, 166.0, 142.0, 133.0, 178.0, 93.0, 107.0, 97.0, 115.0, 168.0, 91.0, 148.0, 174.0, 122.0, 123.0, 91.0, 199.0, 102.0, 138.0, 101.0, 92.0, 99.0, 111.0, 152.0, 86.0, 98.0, 85.0, 107.0, 137.0, 138.0, 168.0, 93.0, 114.0, 98.0, 172.0, 96.0, 114.0, 83.0, 117.0, 114.0, 178.0, 108.0, 130.0, 161.0, 138.0, 124.0, 126.0, 105.0, 83.0, 120.0, 142.0, 104.0, 100.0, 83.0, 106.0, 161.0, 185.0, 147.0, 112.0, 162.0, 86.0, 108.0, 161.0, 129.0, 93.0, 93.0, 172.0, 87.0, 168.0, 151.0, 102.0, 84.0, 199.0, 97.0, 127.0, 89.0, 172.0, 161.0, 104.0, 197.0, 137.0, 111.0, 98.0, 194.0, 82.0, 184.0, 88.0, 99.0, 120.0, 160.0, 107.0, 108.0, 185.0, 115.0, 96.0, 133.0, 112.0, 140.0, 107.0, 107.0, 102.0, 117.0, 131.0, 91.0, 126.0, 129.0, 147.0, 97.0, 132.0, 86.0, 120.0, 108.0, 138.0, 115.0, 169.0, 84.0, 92.0, 169.0, 142.0, 172.0, 114.0, 107.0, 100.0, 134.0, 153.0, 86.0, 183.0, 138.0, 193.0, 137.0, 108.0, 83.0, 193.0, 105.0, 149.0, 151.0, 143.0, 122.0, 112.0, 82.0, 90.0, 154.0, 89.0, 161.0, 159.0, 88.0, 178.0, 83.0, 120.0, 126.0, 102.0, 132.0, 144.0, 155.0, 142.0, 124.0, 129.0, 194.0], 'MntMeatProducts': [1725.0, 801.0, 780.0, 925.0, 779.0, 568.0, 690.0, 812.0, 951.0, 590.0, 921.0, 756.0, 1582.0, 813.0, 740.0, 757.0, 768.0, 565.0, 573.0, 561.0, 570.0, 562.0, 832.0, 785.0, 818.0, 815.0, 786.0, 591.0, 716.0, 792.0, 974.0, 594.0, 613.0, 670.0, 925.0, 761.0, 940.0, 797.0, 635.0, 592.0, 572.0, 732.0, 713.0, 653.0, 758.0, 711.0, 838.0, 1622.0, 559.0, 597.0, 706.0, 617.0, 742.0, 689.0, 898.0, 706.0, 597.0, 747.0, 804.0, 774.0, 929.0, 845.0, 569.0, 838.0, 685.0, 873.0, 674.0, 890.0, 704.0, 606.0, 790.0, 925.0, 651.0, 708.0, 640.0, 733.0, 961.0, 568.0, 780.0, 678.0, 842.0, 843.0, 711.0, 818.0, 864.0, 750.0, 731.0, 604.0, 915.0, 689.0, 801.0, 913.0, 946.0, 672.0, 611.0, 687.0, 842.0, 622.0, 790.0, 717.0, 573.0, 984.0, 694.0, 595.0, 672.0, 573.0, 601.0, 731.0, 717.0, 687.0, 815.0, 706.0, 724.0, 827.0, 560.0, 701.0, 915.0, 639.0, 573.0, 625.0, 649.0, 832.0, 575.0, 599.0, 1725.0, 768.0, 673.0, 850.0, 835.0, 936.0, 935.0, 853.0, 558.0, 751.0, 693.0, 629.0, 981.0, 586.0, 565.0, 697.0, 736.0, 602.0, 590.0, 899.0, 816.0, 603.0, 754.0, 835.0, 768.0, 612.0, 753.0, 654.0, 567.0, 653.0, 951.0, 815.0, 797.0, 592.0, 746.0, 932.0, 735.0, 650.0, 607.0, 968.0, 883.0, 849.0, 614.0, 818.0, 689.0, 749.0, 655.0, 845.0, 860.0, 631.0, 1607.0], 'MntFishProducts': [172.0, 225.0, 150.0, 160.0, 227.0, 156.0, 180.0, 121.0, 201.0, 189.0, 137.0, 185.0, 151.0, 123.0, 173.0, 149.0, 134.0, 173.0, 140.0, 147.0, 224.0, 254.0, 180.0, 186.0, 218.0, 133.0, 150.0, 220.0, 205.0, 162.0, 188.0, 150.0, 150.0, 166.0, 216.0, 219.0, 151.0, 172.0, 212.0, 129.0, 151.0, 137.0, 156.0, 179.0, 179.0, 149.0, 197.0, 220.0, 199.0, 205.0, 169.0, 240.0, 146.0, 224.0, 127.0, 136.0, 168.0, 132.0, 147.0, 231.0, 168.0, 202.0, 125.0, 175.0, 179.0, 133.0, 121.0, 172.0, 164.0, 177.0, 138.0, 138.0, 175.0, 247.0, 127.0, 150.0, 227.0, 159.0, 153.0, 123.0, 134.0, 202.0, 234.0, 210.0, 133.0, 168.0, 160.0, 160.0, 194.0, 250.0, 138.0, 146.0, 220.0, 237.0, 250.0, 145.0, 167.0, 160.0, 150.0, 168.0, 192.0, 180.0, 137.0, 130.0, 232.0, 132.0, 125.0, 168.0, 132.0, 145.0, 184.0, 134.0, 240.0, 186.0, 125.0, 219.0, 237.0, 123.0, 138.0, 158.0, 216.0, 259.0, 168.0, 219.0, 186.0, 151.0, 145.0, 133.0, 137.0, 207.0, 160.0, 210.0, 172.0, 182.0, 141.0, 182.0, 124.0, 171.0, 193.0, 160.0, 130.0, 242.0, 175.0, 180.0, 246.0, 188.0, 210.0, 234.0, 197.0, 210.0, 197.0, 219.0, 149.0, 149.0, 185.0, 142.0, 140.0, 253.0, 169.0, 220.0, 258.0, 134.0, 123.0, 146.0, 258.0, 179.0, 207.0, 198.0, 153.0, 141.0, 168.0, 138.0, 223.0, 151.0, 258.0, 188.0, 145.0, 224.0, 150.0, 216.0, 160.0, 124.0, 159.0, 150.0, 181.0, 150.0, 177.0, 138.0, 184.0, 158.0, 129.0, 130.0, 151.0, 205.0, 173.0, 128.0, 123.0, 153.0, 145.0, 179.0, 208.0, 180.0, 208.0, 201.0, 210.0, 121.0, 164.0, 212.0, 250.0, 136.0, 199.0, 229.0, 133.0, 150.0, 192.0, 193.0, 224.0, 130.0, 199.0, 145.0, 202.0, 182.0, 149.0], 'MntSweetProducts': [88.0, 112.0, 263.0, 178.0, 167.0, 120.0, 120.0, 122.0, 82.0, 105.0, 133.0, 132.0, 98.0, 82.0, 103.0, 89.0, 91.0, 89.0, 113.0, 173.0, 87.0, 176.0, 102.0, 87.0, 138.0, 163.0, 124.0, 172.0, 84.0, 149.0, 92.0, 130.0, 114.0, 141.0, 147.0, 97.0, 118.0, 153.0, 189.0, 107.0, 128.0, 163.0, 133.0, 134.0, 91.0, 150.0, 137.0, 91.0, 103.0, 172.0, 95.0, 156.0, 194.0, 96.0, 191.0, 84.0, 192.0, 129.0, 108.0, 107.0, 123.0, 185.0, 134.0, 121.0, 163.0, 127.0, 125.0, 121.0, 198.0, 115.0, 82.0, 98.0, 106.0, 101.0, 110.0, 134.0, 102.0, 83.0, 107.0, 160.0, 138.0, 122.0, 166.0, 136.0, 106.0, 98.0, 116.0, 133.0, 120.0, 182.0, 91.0, 148.0, 161.0, 161.0, 157.0, 153.0, 123.0, 133.0, 143.0, 102.0, 92.0, 169.0, 103.0, 149.0, 91.0, 86.0, 146.0, 123.0, 137.0, 92.0, 87.0, 91.0, 178.0, 152.0, 112.0, 115.0, 133.0, 152.0, 116.0, 138.0, 92.0, 83.0, 95.0, 161.0, 93.0, 160.0, 115.0, 112.0, 137.0, 172.0, 151.0, 99.0, 144.0, 151.0, 122.0, 147.0, 115.0, 195.0, 91.0, 189.0, 161.0, 98.0, 175.0, 145.0, 162.0, 105.0, 96.0, 187.0, 126.0, 97.0, 108.0, 143.0, 147.0, 105.0, 160.0, 114.0, 194.0, 148.0, 85.0, 98.0, 89.0, 109.0, 151.0, 152.0, 137.0, 137.0, 197.0, 125.0, 176.0, 165.0, 97.0, 121.0, 144.0, 174.0, 151.0, 112.0, 118.0, 96.0, 112.0, 82.0, 163.0, 196.0, 107.0, 102.0, 83.0, 107.0, 97.0, 88.0, 95.0, 174.0, 107.0, 118.0, 118.0, 92.0, 126.0, 107.0, 97.0, 89.0, 150.0, 86.0, 169.0, 138.0, 139.0, 188.0, 142.0, 107.0, 88.0, 105.0, 94.0, 165.0, 143.0, 83.0, 138.0, 95.0, 262.0, 92.0, 185.0, 108.0, 84.0, 91.0, 141.0, 85.0, 179.0, 86.0, 94.0, 143.0, 100.0, 101.0, 93.0, 194.0, 129.0, 101.0, 102.0, 98.0, 151.0, 89.0, 126.0, 192.0, 89.0, 102.0, 138.0, 192.0, 93.0, 92.0, 111.0, 133.0, 125.0, 118.0], 'MntGoldProds': [176.0, 362.0, 174.0, 241.0, 190.0, 169.0, 145.0, 223.0, 168.0, 172.0, 216.0, 130.0, 223.0, 141.0, 172.0, 192.0, 182.0, 181.0, 152.0, 172.0, 148.0, 241.0, 146.0, 162.0, 131.0, 182.0, 135.0, 203.0, 139.0, 224.0, 173.0, 218.0, 142.0, 233.0, 157.0, 159.0, 172.0, 191.0, 241.0, 134.0, 130.0, 153.0, 175.0, 224.0, 165.0, 190.0, 163.0, 159.0, 144.0, 147.0, 207.0, 146.0, 151.0, 141.0, 154.0, 242.0, 191.0, 147.0, 174.0, 155.0, 249.0, 151.0, 183.0, 170.0, 191.0, 151.0, 152.0, 227.0, 205.0, 134.0, 198.0, 139.0, 177.0, 133.0, 145.0, 141.0, 187.0, 171.0, 130.0, 205.0, 170.0, 142.0, 129.0, 175.0, 242.0, 135.0, 241.0, 174.0, 182.0, 166.0, 227.0, 144.0, 172.0, 133.0, 139.0, 131.0, 195.0, 231.0, 182.0, 182.0, 191.0, 158.0, 145.0, 218.0, 200.0, 187.0, 178.0, 200.0, 147.0, 149.0, 190.0, 133.0, 142.0, 168.0, 153.0, 134.0, 131.0, 154.0, 192.0, 132.0, 210.0, 241.0, 144.0, 210.0, 172.0, 154.0, 138.0, 134.0, 176.0, 205.0, 262.0, 168.0, 140.0, 131.0, 246.0, 138.0, 130.0, 196.0, 191.0, 144.0, 153.0, 170.0, 197.0, 196.0, 200.0, 133.0, 199.0, 215.0, 127.0, 134.0, 161.0, 180.0, 187.0, 195.0, 191.0, 141.0, 149.0, 128.0, 183.0, 291.0, 150.0, 153.0, 162.0, 232.0, 166.0, 192.0, 176.0, 183.0, 219.0, 203.0, 172.0, 153.0, 133.0, 174.0, 137.0, 185.0, 224.0, 145.0, 160.0, 321.0, 143.0, 204.0, 143.0, 232.0, 145.0, 149.0, 133.0, 196.0, 130.0, 147.0, 245.0, 185.0, 154.0, 229.0, 163.0, 128.0, 153.0, 150.0, 241.0, 129.0, 248.0, 129.0, 227.0, 163.0, 174.0, 152.0, 247.0], 'NumDealsPurchases': [15, 7, 9, 7, 7, 12, 7, 15, 8, 10, 9, 7, 13, 7, 7, 9, 9, 15, 7, 7, 7, 7, 7, 7, 7, 15, 7, 8, 7, 8, 7, 7, 7, 8, 8, 7, 7, 7, 7, 15, 11, 8, 7, 7, 12, 10, 12, 15, 10, 8, 7, 11, 8, 7, 7, 7, 10, 7, 7, 13, 9, 12, 7, 11, 7, 7, 9, 8, 9, 13, 9, 8, 11, 15, 11, 8, 7, 8, 10, 8, 7, 7, 7, 7, 8, 7], 'NumWebPurchases': [27, 23, 27, 25], 'NumCatalogPurchases': [28, 11, 22, 11, 11, 11, 11, 11, 28, 11, 11, 11, 11, 11, 11, 11, 11, 28, 11, 11, 11, 11, 11], 'NumWebVisitsMonth': [20, 20, 14, 19, 20, 17, 14, 19], 'TotalMnt': [2525.0, 2524.0, 2525.0], 'TotalCampPar': [1, 2, 1, 1, 1, 1, 1, 2, 1, 2, 2, 1, 1, 1, 1, 2, 1, 1, 1, 1, 1, 2, 2, 3, 1, 1, 1, 2, 1, 1, 1, 2, 1, 1, 1, 1, 1, 3, 1, 1, 1, 2, 1, 1, 1, 3, 4, 1, 1, 1, 1, 1, 1, 1, 2, 1, 1, 1, 1, 2, 2, 1, 3, 1, 1, 2, 1, 1, 2, 1, 1, 1, 1, 1, 1, 1, 1, 1, 1, 4, 2, 2, 1, 3, 2, 4, 2, 2, 1, 1, 1, 2, 1, 1, 1, 1, 1, 1, 1, 2, 1, 2, 1, 1, 2, 1, 1, 1, 4, 3, 1, 3, 1, 2, 1, 2, 1, 1, 1, 1, 2, 2, 1, 1, 1, 1, 2, 1, 1, 1, 3, 2, 1, 1, 1, 1, 1, 1, 3, 3, 1, 1, 1, 1, 3, 1, 1, 1, 3, 1, 1, 3, 1, 2, 1, 4, 2, 1, 3, 2, 1, 2, 1, 2, 1, 3, 1, 1, 1, 1, 1, 2, 1, 2, 1, 1, 1, 1, 1, 1, 3, 2, 1, 2, 1, 1, 2, 3, 4, 1, 1, 1, 2, 2, 2, 1, 1, 1, 3, 1, 1, 1, 1, 1, 1, 1, 1, 1, 1, 1, 1, 1, 2, 1, 2, 1, 4, 1, 3, 1, 1, 1, 1, 2, 1, 1, 1, 1, 3, 1, 1, 1, 1, 1, 1, 1, 1, 1, 2, 1, 1, 1, 1, 1, 1, 1, 1, 1, 1, 1, 1, 3, 1, 1, 2, 1, 1, 1, 2, 1, 1, 2, 3, 1, 1, 1, 1, 1, 1, 2, 1, 3, 1, 1, 3, 1, 2, 4, 1, 1, 1, 2, 3, 1, 1, 1, 1, 1, 1, 1, 1, 1, 1, 2, 3, 1, 1, 2, 1, 1, 2, 1, 3, 1, 2, 1, 2, 1, 1, 1, 3, 1, 1, 1, 1, 2, 1, 1, 1, 1, 1, 1, 2, 1, 2, 1, 1, 1, 1, 1, 1, 1, 1, 1, 3, 1, 2, 1, 2, 1, 1, 1, 2, 1, 1, 4, 3, 1, 1, 3, 3, 1, 1, 1, 1, 1, 1, 3, 1, 1, 1, 1, 1, 1, 1, 1, 1, 1, 1, 1, 1, 1, 3, 3, 2, 2, 1, 1, 3, 1, 1, 1, 1, 1, 3, 2, 1, 1, 1, 1, 1, 2, 2, 4, 1, 2, 3, 1, 1, 3, 1, 2, 1, 1, 1, 2, 1, 1, 2, 3, 1, 1, 1, 3, 1, 1, 1, 1, 2, 1, 1, 1, 2, 1, 2, 2, 2, 1, 1, 1, 1, 3, 1, 1, 1, 2, 1, 1, 1, 1, 1, 4, 3, 1, 3, 2, 2, 1, 1, 1, 1, 1, 2, 1, 1, 1, 1, 2, 1, 1, 1, 1, 1], 'Age': [113, 121, 114]}\n"
     ]
    }
   ],
   "source": [
    "print(outlier_marketing_df_dictionary)"
   ]
  },
  {
   "cell_type": "code",
   "execution_count": 49,
   "id": "f3a09bff",
   "metadata": {},
   "outputs": [],
   "source": [
    "def winsorizing_outliers(outlier_columns, df):\n",
    "    \n",
    "    for key in outlier_columns:\n",
    "        Q95 = np.percentile(df[key], 95, interpolation = 'midpoint')\n",
    "        Q5 = np.percentile(df[key], 5, interpolation = 'midpoint')\n",
    "        Q1 = np.percentile(df[key], 25, interpolation = 'midpoint')\n",
    "        Q3 = np.percentile(df[key], 75, interpolation = 'midpoint')\n",
    "\n",
    "        IQR = Q3 - Q1\n",
    "        low_lim = Q1 - 1.5 * IQR\n",
    "        up_lim = Q3 + 1.5 * IQR\n",
    "\n",
    "        for value, index in zip(df[key], df[key].index.tolist()):\n",
    "            if (value > up_lim):\n",
    "                df.loc[index, [key]] = Q95\n",
    "            elif (value < low_lim):\n",
    "                df.loc[index, [key]] = Q5    "
   ]
  },
  {
   "cell_type": "code",
   "execution_count": 50,
   "id": "7fd9eb3d",
   "metadata": {},
   "outputs": [],
   "source": [
    "outlier_columns = ['Income', 'Age']\n",
    "winsorizing_outliers(outlier_columns, cleaned_marketing_df_engineered)"
   ]
  },
  {
   "cell_type": "markdown",
   "id": "e1635687",
   "metadata": {},
   "source": [
    "## Data Export"
   ]
  },
  {
   "cell_type": "code",
   "execution_count": 51,
   "id": "0dfba343",
   "metadata": {},
   "outputs": [],
   "source": [
    "cleaned_marketing_df_engineered.to_csv('./Data/cleaned_marketing_engineered.csv', index=False)"
   ]
  },
  {
   "cell_type": "code",
   "execution_count": 52,
   "id": "f4b8dfb8",
   "metadata": {},
   "outputs": [
    {
     "data": {
      "text/html": [
       "<div>\n",
       "<style scoped>\n",
       "    .dataframe tbody tr th:only-of-type {\n",
       "        vertical-align: middle;\n",
       "    }\n",
       "\n",
       "    .dataframe tbody tr th {\n",
       "        vertical-align: top;\n",
       "    }\n",
       "\n",
       "    .dataframe thead th {\n",
       "        text-align: right;\n",
       "    }\n",
       "</style>\n",
       "<table border=\"1\" class=\"dataframe\">\n",
       "  <thead>\n",
       "    <tr style=\"text-align: right;\">\n",
       "      <th></th>\n",
       "      <th>Education</th>\n",
       "      <th>Marital_Status</th>\n",
       "      <th>Income</th>\n",
       "      <th>Dt_Customer</th>\n",
       "      <th>Recency</th>\n",
       "      <th>MntWines</th>\n",
       "      <th>MntFruits</th>\n",
       "      <th>MntMeatProducts</th>\n",
       "      <th>MntFishProducts</th>\n",
       "      <th>MntSweetProducts</th>\n",
       "      <th>...</th>\n",
       "      <th>AcceptedCmp5</th>\n",
       "      <th>AcceptedCmp1</th>\n",
       "      <th>AcceptedCmp2</th>\n",
       "      <th>Complain</th>\n",
       "      <th>Response</th>\n",
       "      <th>Minorshome</th>\n",
       "      <th>TotalMnt</th>\n",
       "      <th>TotalPurchases</th>\n",
       "      <th>TotalCampPar</th>\n",
       "      <th>Age</th>\n",
       "    </tr>\n",
       "  </thead>\n",
       "  <tbody>\n",
       "    <tr>\n",
       "      <th>0</th>\n",
       "      <td>Graduation</td>\n",
       "      <td>Single</td>\n",
       "      <td>58138.0</td>\n",
       "      <td>2012-09-04</td>\n",
       "      <td>58</td>\n",
       "      <td>635.0</td>\n",
       "      <td>88.0</td>\n",
       "      <td>546.0</td>\n",
       "      <td>172.0</td>\n",
       "      <td>88.0</td>\n",
       "      <td>...</td>\n",
       "      <td>0</td>\n",
       "      <td>0</td>\n",
       "      <td>0</td>\n",
       "      <td>0</td>\n",
       "      <td>1</td>\n",
       "      <td>0</td>\n",
       "      <td>1617.0</td>\n",
       "      <td>22</td>\n",
       "      <td>0</td>\n",
       "      <td>55</td>\n",
       "    </tr>\n",
       "    <tr>\n",
       "      <th>1</th>\n",
       "      <td>Graduation</td>\n",
       "      <td>Single</td>\n",
       "      <td>46344.0</td>\n",
       "      <td>2014-03-08</td>\n",
       "      <td>38</td>\n",
       "      <td>11.0</td>\n",
       "      <td>1.0</td>\n",
       "      <td>6.0</td>\n",
       "      <td>2.0</td>\n",
       "      <td>1.0</td>\n",
       "      <td>...</td>\n",
       "      <td>0</td>\n",
       "      <td>0</td>\n",
       "      <td>0</td>\n",
       "      <td>0</td>\n",
       "      <td>0</td>\n",
       "      <td>2</td>\n",
       "      <td>27.0</td>\n",
       "      <td>4</td>\n",
       "      <td>0</td>\n",
       "      <td>60</td>\n",
       "    </tr>\n",
       "    <tr>\n",
       "      <th>2</th>\n",
       "      <td>Graduation</td>\n",
       "      <td>Married</td>\n",
       "      <td>71613.0</td>\n",
       "      <td>2013-08-21</td>\n",
       "      <td>26</td>\n",
       "      <td>426.0</td>\n",
       "      <td>49.0</td>\n",
       "      <td>127.0</td>\n",
       "      <td>111.0</td>\n",
       "      <td>21.0</td>\n",
       "      <td>...</td>\n",
       "      <td>0</td>\n",
       "      <td>0</td>\n",
       "      <td>0</td>\n",
       "      <td>0</td>\n",
       "      <td>0</td>\n",
       "      <td>0</td>\n",
       "      <td>776.0</td>\n",
       "      <td>20</td>\n",
       "      <td>0</td>\n",
       "      <td>48</td>\n",
       "    </tr>\n",
       "    <tr>\n",
       "      <th>3</th>\n",
       "      <td>Graduation</td>\n",
       "      <td>Married</td>\n",
       "      <td>26646.0</td>\n",
       "      <td>2014-02-10</td>\n",
       "      <td>26</td>\n",
       "      <td>11.0</td>\n",
       "      <td>4.0</td>\n",
       "      <td>20.0</td>\n",
       "      <td>10.0</td>\n",
       "      <td>3.0</td>\n",
       "      <td>...</td>\n",
       "      <td>0</td>\n",
       "      <td>0</td>\n",
       "      <td>0</td>\n",
       "      <td>0</td>\n",
       "      <td>0</td>\n",
       "      <td>1</td>\n",
       "      <td>53.0</td>\n",
       "      <td>6</td>\n",
       "      <td>0</td>\n",
       "      <td>30</td>\n",
       "    </tr>\n",
       "    <tr>\n",
       "      <th>4</th>\n",
       "      <td>PhD</td>\n",
       "      <td>Married</td>\n",
       "      <td>58293.0</td>\n",
       "      <td>2014-01-19</td>\n",
       "      <td>94</td>\n",
       "      <td>173.0</td>\n",
       "      <td>43.0</td>\n",
       "      <td>118.0</td>\n",
       "      <td>46.0</td>\n",
       "      <td>27.0</td>\n",
       "      <td>...</td>\n",
       "      <td>0</td>\n",
       "      <td>0</td>\n",
       "      <td>0</td>\n",
       "      <td>0</td>\n",
       "      <td>0</td>\n",
       "      <td>1</td>\n",
       "      <td>422.0</td>\n",
       "      <td>14</td>\n",
       "      <td>0</td>\n",
       "      <td>33</td>\n",
       "    </tr>\n",
       "  </tbody>\n",
       "</table>\n",
       "<p>5 rows × 28 columns</p>\n",
       "</div>"
      ],
      "text/plain": [
       "    Education Marital_Status   Income Dt_Customer  Recency  MntWines  \\\n",
       "0  Graduation         Single  58138.0  2012-09-04       58     635.0   \n",
       "1  Graduation         Single  46344.0  2014-03-08       38      11.0   \n",
       "2  Graduation        Married  71613.0  2013-08-21       26     426.0   \n",
       "3  Graduation        Married  26646.0  2014-02-10       26      11.0   \n",
       "4         PhD        Married  58293.0  2014-01-19       94     173.0   \n",
       "\n",
       "   MntFruits  MntMeatProducts  MntFishProducts  MntSweetProducts  ...  \\\n",
       "0       88.0            546.0            172.0              88.0  ...   \n",
       "1        1.0              6.0              2.0               1.0  ...   \n",
       "2       49.0            127.0            111.0              21.0  ...   \n",
       "3        4.0             20.0             10.0               3.0  ...   \n",
       "4       43.0            118.0             46.0              27.0  ...   \n",
       "\n",
       "   AcceptedCmp5  AcceptedCmp1  AcceptedCmp2  Complain  Response  Minorshome  \\\n",
       "0             0             0             0         0         1           0   \n",
       "1             0             0             0         0         0           2   \n",
       "2             0             0             0         0         0           0   \n",
       "3             0             0             0         0         0           1   \n",
       "4             0             0             0         0         0           1   \n",
       "\n",
       "   TotalMnt  TotalPurchases  TotalCampPar  Age  \n",
       "0    1617.0              22             0   55  \n",
       "1      27.0               4             0   60  \n",
       "2     776.0              20             0   48  \n",
       "3      53.0               6             0   30  \n",
       "4     422.0              14             0   33  \n",
       "\n",
       "[5 rows x 28 columns]"
      ]
     },
     "execution_count": 52,
     "metadata": {},
     "output_type": "execute_result"
    }
   ],
   "source": [
    "df = pd.read_csv('./Data/cleaned_marketing_engineered.csv')\n",
    "df.head()"
   ]
  }
 ],
 "metadata": {
  "kernelspec": {
   "display_name": "Python 3 (ipykernel)",
   "language": "python",
   "name": "python3"
  },
  "language_info": {
   "codemirror_mode": {
    "name": "ipython",
    "version": 3
   },
   "file_extension": ".py",
   "mimetype": "text/x-python",
   "name": "python",
   "nbconvert_exporter": "python",
   "pygments_lexer": "ipython3",
   "version": "3.9.10"
  }
 },
 "nbformat": 4,
 "nbformat_minor": 5
}
