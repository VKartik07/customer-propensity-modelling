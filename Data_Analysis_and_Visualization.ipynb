{
 "cells": [
  {
   "cell_type": "markdown",
   "id": "958c20f1",
   "metadata": {},
   "source": [
    "# Customer Propensity Modelling"
   ]
  },
  {
   "cell_type": "markdown",
   "id": "e4b1657b",
   "metadata": {},
   "source": [
    "## Data Visualization and Analysis"
   ]
  },
  {
   "cell_type": "code",
   "execution_count": 102,
   "id": "e4510e9a",
   "metadata": {},
   "outputs": [],
   "source": [
    "import pandas as pd\n",
    "import numpy as np\n",
    "import seaborn as sns\n",
    "import scipy.stats as stats\n",
    "\n",
    "import plotly.express as px\n",
    "import plotly.graph_objects as go\n",
    "from jupyter_dash import JupyterDash\n",
    "from dash import Dash, dcc, html\n",
    "from dash.dependencies import Input, Output"
   ]
  },
  {
   "cell_type": "code",
   "execution_count": 62,
   "id": "0049709b",
   "metadata": {},
   "outputs": [],
   "source": [
    "marketing_df = pd.read_csv('./Data/cleaned_marketing_engineered.csv')"
   ]
  },
  {
   "cell_type": "code",
   "execution_count": 4,
   "id": "fef1f8b1",
   "metadata": {},
   "outputs": [
    {
     "name": "stdout",
     "output_type": "stream",
     "text": [
      "<class 'pandas.core.frame.DataFrame'>\n",
      "RangeIndex: 2240 entries, 0 to 2239\n",
      "Data columns (total 28 columns):\n",
      " #   Column               Non-Null Count  Dtype  \n",
      "---  ------               --------------  -----  \n",
      " 0   Education            2240 non-null   object \n",
      " 1   Marital_Status       2240 non-null   object \n",
      " 2   Income               2240 non-null   float64\n",
      " 3   Dt_Customer          2240 non-null   object \n",
      " 4   Recency              2240 non-null   int64  \n",
      " 5   MntWines             2240 non-null   float64\n",
      " 6   MntFruits            2240 non-null   float64\n",
      " 7   MntMeatProducts      2240 non-null   float64\n",
      " 8   MntFishProducts      2240 non-null   float64\n",
      " 9   MntSweetProducts     2240 non-null   float64\n",
      " 10  MntGoldProds         2240 non-null   float64\n",
      " 11  NumDealsPurchases    2240 non-null   int64  \n",
      " 12  NumWebPurchases      2240 non-null   int64  \n",
      " 13  NumCatalogPurchases  2240 non-null   int64  \n",
      " 14  NumStorePurchases    2240 non-null   int64  \n",
      " 15  NumWebVisitsMonth    2240 non-null   int64  \n",
      " 16  AcceptedCmp3         2240 non-null   int64  \n",
      " 17  AcceptedCmp4         2240 non-null   int64  \n",
      " 18  AcceptedCmp5         2240 non-null   int64  \n",
      " 19  AcceptedCmp1         2240 non-null   int64  \n",
      " 20  AcceptedCmp2         2240 non-null   int64  \n",
      " 21  Complain             2240 non-null   int64  \n",
      " 22  Response             2240 non-null   int64  \n",
      " 23  Minorshome           2240 non-null   int64  \n",
      " 24  TotalMnt             2240 non-null   float64\n",
      " 25  TotalPurchases       2240 non-null   int64  \n",
      " 26  TotalCampPar         2240 non-null   int64  \n",
      " 27  Age                  2240 non-null   int64  \n",
      "dtypes: float64(8), int64(17), object(3)\n",
      "memory usage: 490.1+ KB\n"
     ]
    }
   ],
   "source": [
    "marketing_df.info()"
   ]
  },
  {
   "cell_type": "code",
   "execution_count": 5,
   "id": "a48a9b99",
   "metadata": {},
   "outputs": [],
   "source": [
    "products_list = ['MntWines', 'MntFruits', 'MntMeatProducts', 'MntFishProducts', 'MntSweetProducts', 'MntGoldProds'] \n",
    "products_list_name = ['Wine', 'Fruits', 'Meat', 'Fish', 'Sweet', 'Gold']\n",
    "\n",
    "percentage_of_product_sales_list = [round((marketing_df[i].sum(axis=0) / marketing_df.TotalMnt.sum(axis=0))*100, 2) for i in products_list]"
   ]
  },
  {
   "cell_type": "code",
   "execution_count": 6,
   "id": "11845c15",
   "metadata": {},
   "outputs": [
    {
     "data": {
      "text/html": [
       "\n",
       "        <iframe\n",
       "            width=\"100%\"\n",
       "            height=\"650\"\n",
       "            src=\"http://127.0.0.1:8050/\"\n",
       "            frameborder=\"0\"\n",
       "            allowfullscreen\n",
       "            \n",
       "        ></iframe>\n",
       "        "
      ],
      "text/plain": [
       "<IPython.lib.display.IFrame at 0x17e299e5e80>"
      ]
     },
     "metadata": {},
     "output_type": "display_data"
    }
   ],
   "source": [
    "app = JupyterDash(__name__)\n",
    "\n",
    "fig = px.bar(x = products_list_name, \n",
    "             y = percentage_of_product_sales_list, \n",
    "             color = percentage_of_product_sales_list,\n",
    "             labels = {'x' : 'Products', 'y' : 'Percentage of Product Sales'},\n",
    "             title = 'Percentage of Product Sales vs Products',\n",
    "             text_auto = True)\n",
    "\n",
    "fig.update_layout(xaxis={'categoryorder':'total descending'})\n",
    "\n",
    "app.layout = html.Div([\n",
    "    dcc.Graph(figure=fig)\n",
    "])\n",
    "\n",
    "app.run_server(mode='inline')"
   ]
  },
  {
   "cell_type": "code",
   "execution_count": 7,
   "id": "2797f29c",
   "metadata": {},
   "outputs": [],
   "source": [
    "purchase_type_list = ['NumWebPurchases', 'NumStorePurchases', 'NumCatalogPurchases']\n",
    "purchase_type_list_name = ['Web Purchases', 'Store Purchases', 'Catalog Purchases']\n",
    "\n",
    "percentage_of_purchase_sales_list = [round((marketing_df[i].sum(axis=0) / marketing_df.TotalPurchases.sum(axis=0))*100, 2) for i in purchase_type_list]"
   ]
  },
  {
   "cell_type": "code",
   "execution_count": 8,
   "id": "cf3a01d0",
   "metadata": {},
   "outputs": [
    {
     "data": {
      "text/html": [
       "\n",
       "        <iframe\n",
       "            width=\"100%\"\n",
       "            height=\"650\"\n",
       "            src=\"http://127.0.0.1:8050/\"\n",
       "            frameborder=\"0\"\n",
       "            allowfullscreen\n",
       "            \n",
       "        ></iframe>\n",
       "        "
      ],
      "text/plain": [
       "<IPython.lib.display.IFrame at 0x17e2b2a7f40>"
      ]
     },
     "metadata": {},
     "output_type": "display_data"
    }
   ],
   "source": [
    "app = JupyterDash(__name__)\n",
    "\n",
    "fig = px.bar(x = purchase_type_list_name, \n",
    "             y = percentage_of_purchase_sales_list , \n",
    "             color = percentage_of_purchase_sales_list ,\n",
    "             labels = {'x' : 'Purchase Funnels', 'y' : 'Total Number of Purchases'},\n",
    "             title = 'Percentage of Total Number of Purchases vs Purchase Funnel',\n",
    "             text_auto = True)\n",
    "\n",
    "fig.update_layout(xaxis={'categoryorder':'total descending'})\n",
    "\n",
    "app.layout = html.Div([\n",
    "    dcc.Graph(figure=fig)\n",
    "])\n",
    "\n",
    "app.run_server(mode='inline')"
   ]
  },
  {
   "cell_type": "code",
   "execution_count": 9,
   "id": "6be06303",
   "metadata": {},
   "outputs": [],
   "source": [
    "correlation_check_columns_list = []\n",
    "for column in marketing_df.columns.tolist():\n",
    "    if marketing_df[column].dtypes in ['float32', 'float64', 'int32', 'int64']:\n",
    "        if marketing_df[column].nunique() >= 3:\n",
    "            correlation_check_columns_list.append(column)"
   ]
  },
  {
   "cell_type": "code",
   "execution_count": 10,
   "id": "856e64e0",
   "metadata": {},
   "outputs": [],
   "source": [
    "correlation_df = marketing_df.copy()\n",
    "correlation_df = correlation_df.loc[:, correlation_check_columns_list]"
   ]
  },
  {
   "cell_type": "code",
   "execution_count": 11,
   "id": "d2f8f290",
   "metadata": {},
   "outputs": [
    {
     "data": {
      "text/html": [
       "<style type=\"text/css\">\n",
       "#T_df10d_row0_col0, #T_df10d_row0_col2, #T_df10d_row0_col14, #T_df10d_row0_col15, #T_df10d_row1_col1, #T_df10d_row2_col0, #T_df10d_row2_col2, #T_df10d_row2_col14, #T_df10d_row2_col15, #T_df10d_row3_col3, #T_df10d_row4_col4, #T_df10d_row4_col10, #T_df10d_row4_col14, #T_df10d_row5_col5, #T_df10d_row6_col6, #T_df10d_row7_col7, #T_df10d_row8_col8, #T_df10d_row9_col9, #T_df10d_row9_col15, #T_df10d_row10_col4, #T_df10d_row10_col10, #T_df10d_row10_col14, #T_df10d_row10_col15, #T_df10d_row11_col11, #T_df10d_row11_col15, #T_df10d_row12_col12, #T_df10d_row13_col13, #T_df10d_row14_col0, #T_df10d_row14_col2, #T_df10d_row14_col4, #T_df10d_row14_col10, #T_df10d_row14_col14, #T_df10d_row14_col15, #T_df10d_row15_col0, #T_df10d_row15_col2, #T_df10d_row15_col9, #T_df10d_row15_col10, #T_df10d_row15_col11, #T_df10d_row15_col14, #T_df10d_row15_col15, #T_df10d_row16_col16, #T_df10d_row17_col17 {\n",
       "  background-color: green;\n",
       "}\n",
       "#T_df10d_row0_col12, #T_df10d_row12_col0 {\n",
       "  background-color: red;\n",
       "}\n",
       "</style>\n",
       "<table id=\"T_df10d\">\n",
       "  <thead>\n",
       "    <tr>\n",
       "      <th class=\"blank level0\" >&nbsp;</th>\n",
       "      <th id=\"T_df10d_level0_col0\" class=\"col_heading level0 col0\" >Income</th>\n",
       "      <th id=\"T_df10d_level0_col1\" class=\"col_heading level0 col1\" >Recency</th>\n",
       "      <th id=\"T_df10d_level0_col2\" class=\"col_heading level0 col2\" >MntWines</th>\n",
       "      <th id=\"T_df10d_level0_col3\" class=\"col_heading level0 col3\" >MntFruits</th>\n",
       "      <th id=\"T_df10d_level0_col4\" class=\"col_heading level0 col4\" >MntMeatProducts</th>\n",
       "      <th id=\"T_df10d_level0_col5\" class=\"col_heading level0 col5\" >MntFishProducts</th>\n",
       "      <th id=\"T_df10d_level0_col6\" class=\"col_heading level0 col6\" >MntSweetProducts</th>\n",
       "      <th id=\"T_df10d_level0_col7\" class=\"col_heading level0 col7\" >MntGoldProds</th>\n",
       "      <th id=\"T_df10d_level0_col8\" class=\"col_heading level0 col8\" >NumDealsPurchases</th>\n",
       "      <th id=\"T_df10d_level0_col9\" class=\"col_heading level0 col9\" >NumWebPurchases</th>\n",
       "      <th id=\"T_df10d_level0_col10\" class=\"col_heading level0 col10\" >NumCatalogPurchases</th>\n",
       "      <th id=\"T_df10d_level0_col11\" class=\"col_heading level0 col11\" >NumStorePurchases</th>\n",
       "      <th id=\"T_df10d_level0_col12\" class=\"col_heading level0 col12\" >NumWebVisitsMonth</th>\n",
       "      <th id=\"T_df10d_level0_col13\" class=\"col_heading level0 col13\" >Minorshome</th>\n",
       "      <th id=\"T_df10d_level0_col14\" class=\"col_heading level0 col14\" >TotalMnt</th>\n",
       "      <th id=\"T_df10d_level0_col15\" class=\"col_heading level0 col15\" >TotalPurchases</th>\n",
       "      <th id=\"T_df10d_level0_col16\" class=\"col_heading level0 col16\" >TotalCampPar</th>\n",
       "      <th id=\"T_df10d_level0_col17\" class=\"col_heading level0 col17\" >Age</th>\n",
       "    </tr>\n",
       "  </thead>\n",
       "  <tbody>\n",
       "    <tr>\n",
       "      <th id=\"T_df10d_level0_row0\" class=\"row_heading level0 row0\" >Income</th>\n",
       "      <td id=\"T_df10d_row0_col0\" class=\"data row0 col0\" >1.000000</td>\n",
       "      <td id=\"T_df10d_row0_col1\" class=\"data row0 col1\" >0.005502</td>\n",
       "      <td id=\"T_df10d_row0_col2\" class=\"data row0 col2\" >0.719414</td>\n",
       "      <td id=\"T_df10d_row0_col3\" class=\"data row0 col3\" >0.530146</td>\n",
       "      <td id=\"T_df10d_row0_col4\" class=\"data row0 col4\" >0.681680</td>\n",
       "      <td id=\"T_df10d_row0_col5\" class=\"data row0 col5\" >0.544097</td>\n",
       "      <td id=\"T_df10d_row0_col6\" class=\"data row0 col6\" >0.543625</td>\n",
       "      <td id=\"T_df10d_row0_col7\" class=\"data row0 col7\" >0.406891</td>\n",
       "      <td id=\"T_df10d_row0_col8\" class=\"data row0 col8\" >-0.122392</td>\n",
       "      <td id=\"T_df10d_row0_col9\" class=\"data row0 col9\" >0.482107</td>\n",
       "      <td id=\"T_df10d_row0_col10\" class=\"data row0 col10\" >0.685688</td>\n",
       "      <td id=\"T_df10d_row0_col11\" class=\"data row0 col11\" >0.667524</td>\n",
       "      <td id=\"T_df10d_row0_col12\" class=\"data row0 col12\" >-0.647464</td>\n",
       "      <td id=\"T_df10d_row0_col13\" class=\"data row0 col13\" >-0.347911</td>\n",
       "      <td id=\"T_df10d_row0_col14\" class=\"data row0 col14\" >0.814439</td>\n",
       "      <td id=\"T_df10d_row0_col15\" class=\"data row0 col15\" >0.765232</td>\n",
       "      <td id=\"T_df10d_row0_col16\" class=\"data row0 col16\" >0.382722</td>\n",
       "      <td id=\"T_df10d_row0_col17\" class=\"data row0 col17\" >0.209738</td>\n",
       "    </tr>\n",
       "    <tr>\n",
       "      <th id=\"T_df10d_level0_row1\" class=\"row_heading level0 row1\" >Recency</th>\n",
       "      <td id=\"T_df10d_row1_col0\" class=\"data row1 col0\" >0.005502</td>\n",
       "      <td id=\"T_df10d_row1_col1\" class=\"data row1 col1\" >1.000000</td>\n",
       "      <td id=\"T_df10d_row1_col2\" class=\"data row1 col2\" >0.016064</td>\n",
       "      <td id=\"T_df10d_row1_col3\" class=\"data row1 col3\" >-0.004306</td>\n",
       "      <td id=\"T_df10d_row1_col4\" class=\"data row1 col4\" >0.023056</td>\n",
       "      <td id=\"T_df10d_row1_col5\" class=\"data row1 col5\" >0.001079</td>\n",
       "      <td id=\"T_df10d_row1_col6\" class=\"data row1 col6\" >0.022670</td>\n",
       "      <td id=\"T_df10d_row1_col7\" class=\"data row1 col7\" >0.016693</td>\n",
       "      <td id=\"T_df10d_row1_col8\" class=\"data row1 col8\" >-0.001098</td>\n",
       "      <td id=\"T_df10d_row1_col9\" class=\"data row1 col9\" >-0.010726</td>\n",
       "      <td id=\"T_df10d_row1_col10\" class=\"data row1 col10\" >0.025110</td>\n",
       "      <td id=\"T_df10d_row1_col11\" class=\"data row1 col11\" >0.000799</td>\n",
       "      <td id=\"T_df10d_row1_col12\" class=\"data row1 col12\" >-0.021445</td>\n",
       "      <td id=\"T_df10d_row1_col13\" class=\"data row1 col13\" >0.018053</td>\n",
       "      <td id=\"T_df10d_row1_col14\" class=\"data row1 col14\" >0.020433</td>\n",
       "      <td id=\"T_df10d_row1_col15\" class=\"data row1 col15\" >0.006410</td>\n",
       "      <td id=\"T_df10d_row1_col16\" class=\"data row1 col16\" >-0.012570</td>\n",
       "      <td id=\"T_df10d_row1_col17\" class=\"data row1 col17\" >0.018347</td>\n",
       "    </tr>\n",
       "    <tr>\n",
       "      <th id=\"T_df10d_level0_row2\" class=\"row_heading level0 row2\" >MntWines</th>\n",
       "      <td id=\"T_df10d_row2_col0\" class=\"data row2 col0\" >0.719414</td>\n",
       "      <td id=\"T_df10d_row2_col1\" class=\"data row2 col1\" >0.016064</td>\n",
       "      <td id=\"T_df10d_row2_col2\" class=\"data row2 col2\" >1.000000</td>\n",
       "      <td id=\"T_df10d_row2_col3\" class=\"data row2 col3\" >0.389637</td>\n",
       "      <td id=\"T_df10d_row2_col4\" class=\"data row2 col4\" >0.562667</td>\n",
       "      <td id=\"T_df10d_row2_col5\" class=\"data row2 col5\" >0.399753</td>\n",
       "      <td id=\"T_df10d_row2_col6\" class=\"data row2 col6\" >0.386581</td>\n",
       "      <td id=\"T_df10d_row2_col7\" class=\"data row2 col7\" >0.387516</td>\n",
       "      <td id=\"T_df10d_row2_col8\" class=\"data row2 col8\" >0.010940</td>\n",
       "      <td id=\"T_df10d_row2_col9\" class=\"data row2 col9\" >0.542265</td>\n",
       "      <td id=\"T_df10d_row2_col10\" class=\"data row2 col10\" >0.635226</td>\n",
       "      <td id=\"T_df10d_row2_col11\" class=\"data row2 col11\" >0.642100</td>\n",
       "      <td id=\"T_df10d_row2_col12\" class=\"data row2 col12\" >-0.320653</td>\n",
       "      <td id=\"T_df10d_row2_col13\" class=\"data row2 col13\" >-0.351909</td>\n",
       "      <td id=\"T_df10d_row2_col14\" class=\"data row2 col14\" >0.891839</td>\n",
       "      <td id=\"T_df10d_row2_col15\" class=\"data row2 col15\" >0.756490</td>\n",
       "      <td id=\"T_df10d_row2_col16\" class=\"data row2 col16\" >0.512358</td>\n",
       "      <td id=\"T_df10d_row2_col17\" class=\"data row2 col17\" >0.152842</td>\n",
       "    </tr>\n",
       "    <tr>\n",
       "      <th id=\"T_df10d_level0_row3\" class=\"row_heading level0 row3\" >MntFruits</th>\n",
       "      <td id=\"T_df10d_row3_col0\" class=\"data row3 col0\" >0.530146</td>\n",
       "      <td id=\"T_df10d_row3_col1\" class=\"data row3 col1\" >-0.004306</td>\n",
       "      <td id=\"T_df10d_row3_col2\" class=\"data row3 col2\" >0.389637</td>\n",
       "      <td id=\"T_df10d_row3_col3\" class=\"data row3 col3\" >1.000000</td>\n",
       "      <td id=\"T_df10d_row3_col4\" class=\"data row3 col4\" >0.543105</td>\n",
       "      <td id=\"T_df10d_row3_col5\" class=\"data row3 col5\" >0.594804</td>\n",
       "      <td id=\"T_df10d_row3_col6\" class=\"data row3 col6\" >0.567164</td>\n",
       "      <td id=\"T_df10d_row3_col7\" class=\"data row3 col7\" >0.392995</td>\n",
       "      <td id=\"T_df10d_row3_col8\" class=\"data row3 col8\" >-0.132114</td>\n",
       "      <td id=\"T_df10d_row3_col9\" class=\"data row3 col9\" >0.296735</td>\n",
       "      <td id=\"T_df10d_row3_col10\" class=\"data row3 col10\" >0.487917</td>\n",
       "      <td id=\"T_df10d_row3_col11\" class=\"data row3 col11\" >0.461758</td>\n",
       "      <td id=\"T_df10d_row3_col12\" class=\"data row3 col12\" >-0.418383</td>\n",
       "      <td id=\"T_df10d_row3_col13\" class=\"data row3 col13\" >-0.394853</td>\n",
       "      <td id=\"T_df10d_row3_col14\" class=\"data row3 col14\" >0.614229</td>\n",
       "      <td id=\"T_df10d_row3_col15\" class=\"data row3 col15\" >0.520686</td>\n",
       "      <td id=\"T_df10d_row3_col16\" class=\"data row3 col16\" >0.161002</td>\n",
       "      <td id=\"T_df10d_row3_col17\" class=\"data row3 col17\" >0.011817</td>\n",
       "    </tr>\n",
       "    <tr>\n",
       "      <th id=\"T_df10d_level0_row4\" class=\"row_heading level0 row4\" >MntMeatProducts</th>\n",
       "      <td id=\"T_df10d_row4_col0\" class=\"data row4 col0\" >0.681680</td>\n",
       "      <td id=\"T_df10d_row4_col1\" class=\"data row4 col1\" >0.023056</td>\n",
       "      <td id=\"T_df10d_row4_col2\" class=\"data row4 col2\" >0.562667</td>\n",
       "      <td id=\"T_df10d_row4_col3\" class=\"data row4 col3\" >0.543105</td>\n",
       "      <td id=\"T_df10d_row4_col4\" class=\"data row4 col4\" >1.000000</td>\n",
       "      <td id=\"T_df10d_row4_col5\" class=\"data row4 col5\" >0.568402</td>\n",
       "      <td id=\"T_df10d_row4_col6\" class=\"data row4 col6\" >0.523846</td>\n",
       "      <td id=\"T_df10d_row4_col7\" class=\"data row4 col7\" >0.350609</td>\n",
       "      <td id=\"T_df10d_row4_col8\" class=\"data row4 col8\" >-0.122415</td>\n",
       "      <td id=\"T_df10d_row4_col9\" class=\"data row4 col9\" >0.293761</td>\n",
       "      <td id=\"T_df10d_row4_col10\" class=\"data row4 col10\" >0.723827</td>\n",
       "      <td id=\"T_df10d_row4_col11\" class=\"data row4 col11\" >0.479659</td>\n",
       "      <td id=\"T_df10d_row4_col12\" class=\"data row4 col12\" >-0.539470</td>\n",
       "      <td id=\"T_df10d_row4_col13\" class=\"data row4 col13\" >-0.502208</td>\n",
       "      <td id=\"T_df10d_row4_col14\" class=\"data row4 col14\" >0.842965</td>\n",
       "      <td id=\"T_df10d_row4_col15\" class=\"data row4 col15\" >0.623315</td>\n",
       "      <td id=\"T_df10d_row4_col16\" class=\"data row4 col16\" >0.309313</td>\n",
       "      <td id=\"T_df10d_row4_col17\" class=\"data row4 col17\" >0.026214</td>\n",
       "    </tr>\n",
       "    <tr>\n",
       "      <th id=\"T_df10d_level0_row5\" class=\"row_heading level0 row5\" >MntFishProducts</th>\n",
       "      <td id=\"T_df10d_row5_col0\" class=\"data row5 col0\" >0.544097</td>\n",
       "      <td id=\"T_df10d_row5_col1\" class=\"data row5 col1\" >0.001079</td>\n",
       "      <td id=\"T_df10d_row5_col2\" class=\"data row5 col2\" >0.399753</td>\n",
       "      <td id=\"T_df10d_row5_col3\" class=\"data row5 col3\" >0.594804</td>\n",
       "      <td id=\"T_df10d_row5_col4\" class=\"data row5 col4\" >0.568402</td>\n",
       "      <td id=\"T_df10d_row5_col5\" class=\"data row5 col5\" >1.000000</td>\n",
       "      <td id=\"T_df10d_row5_col6\" class=\"data row5 col6\" >0.579870</td>\n",
       "      <td id=\"T_df10d_row5_col7\" class=\"data row5 col7\" >0.422875</td>\n",
       "      <td id=\"T_df10d_row5_col8\" class=\"data row5 col8\" >-0.139361</td>\n",
       "      <td id=\"T_df10d_row5_col9\" class=\"data row5 col9\" >0.293681</td>\n",
       "      <td id=\"T_df10d_row5_col10\" class=\"data row5 col10\" >0.534478</td>\n",
       "      <td id=\"T_df10d_row5_col11\" class=\"data row5 col11\" >0.459855</td>\n",
       "      <td id=\"T_df10d_row5_col12\" class=\"data row5 col12\" >-0.446003</td>\n",
       "      <td id=\"T_df10d_row5_col13\" class=\"data row5 col13\" >-0.425503</td>\n",
       "      <td id=\"T_df10d_row5_col14\" class=\"data row5 col14\" >0.642818</td>\n",
       "      <td id=\"T_df10d_row5_col15\" class=\"data row5 col15\" >0.537538</td>\n",
       "      <td id=\"T_df10d_row5_col16\" class=\"data row5 col16\" >0.177830</td>\n",
       "      <td id=\"T_df10d_row5_col17\" class=\"data row5 col17\" >0.038442</td>\n",
       "    </tr>\n",
       "    <tr>\n",
       "      <th id=\"T_df10d_level0_row6\" class=\"row_heading level0 row6\" >MntSweetProducts</th>\n",
       "      <td id=\"T_df10d_row6_col0\" class=\"data row6 col0\" >0.543625</td>\n",
       "      <td id=\"T_df10d_row6_col1\" class=\"data row6 col1\" >0.022670</td>\n",
       "      <td id=\"T_df10d_row6_col2\" class=\"data row6 col2\" >0.386581</td>\n",
       "      <td id=\"T_df10d_row6_col3\" class=\"data row6 col3\" >0.567164</td>\n",
       "      <td id=\"T_df10d_row6_col4\" class=\"data row6 col4\" >0.523846</td>\n",
       "      <td id=\"T_df10d_row6_col5\" class=\"data row6 col5\" >0.579870</td>\n",
       "      <td id=\"T_df10d_row6_col6\" class=\"data row6 col6\" >1.000000</td>\n",
       "      <td id=\"T_df10d_row6_col7\" class=\"data row6 col7\" >0.369724</td>\n",
       "      <td id=\"T_df10d_row6_col8\" class=\"data row6 col8\" >-0.120100</td>\n",
       "      <td id=\"T_df10d_row6_col9\" class=\"data row6 col9\" >0.348544</td>\n",
       "      <td id=\"T_df10d_row6_col10\" class=\"data row6 col10\" >0.490924</td>\n",
       "      <td id=\"T_df10d_row6_col11\" class=\"data row6 col11\" >0.448756</td>\n",
       "      <td id=\"T_df10d_row6_col12\" class=\"data row6 col12\" >-0.423294</td>\n",
       "      <td id=\"T_df10d_row6_col13\" class=\"data row6 col13\" >-0.383137</td>\n",
       "      <td id=\"T_df10d_row6_col14\" class=\"data row6 col14\" >0.603016</td>\n",
       "      <td id=\"T_df10d_row6_col15\" class=\"data row6 col15\" >0.536019</td>\n",
       "      <td id=\"T_df10d_row6_col16\" class=\"data row6 col16\" >0.200237</td>\n",
       "      <td id=\"T_df10d_row6_col17\" class=\"data row6 col17\" >0.014975</td>\n",
       "    </tr>\n",
       "    <tr>\n",
       "      <th id=\"T_df10d_level0_row7\" class=\"row_heading level0 row7\" >MntGoldProds</th>\n",
       "      <td id=\"T_df10d_row7_col0\" class=\"data row7 col0\" >0.406891</td>\n",
       "      <td id=\"T_df10d_row7_col1\" class=\"data row7 col1\" >0.016693</td>\n",
       "      <td id=\"T_df10d_row7_col2\" class=\"data row7 col2\" >0.387516</td>\n",
       "      <td id=\"T_df10d_row7_col3\" class=\"data row7 col3\" >0.392995</td>\n",
       "      <td id=\"T_df10d_row7_col4\" class=\"data row7 col4\" >0.350609</td>\n",
       "      <td id=\"T_df10d_row7_col5\" class=\"data row7 col5\" >0.422875</td>\n",
       "      <td id=\"T_df10d_row7_col6\" class=\"data row7 col6\" >0.369724</td>\n",
       "      <td id=\"T_df10d_row7_col7\" class=\"data row7 col7\" >1.000000</td>\n",
       "      <td id=\"T_df10d_row7_col8\" class=\"data row7 col8\" >0.049085</td>\n",
       "      <td id=\"T_df10d_row7_col9\" class=\"data row7 col9\" >0.421836</td>\n",
       "      <td id=\"T_df10d_row7_col10\" class=\"data row7 col10\" >0.437697</td>\n",
       "      <td id=\"T_df10d_row7_col11\" class=\"data row7 col11\" >0.381678</td>\n",
       "      <td id=\"T_df10d_row7_col12\" class=\"data row7 col12\" >-0.250719</td>\n",
       "      <td id=\"T_df10d_row7_col13\" class=\"data row7 col13\" >-0.266095</td>\n",
       "      <td id=\"T_df10d_row7_col14\" class=\"data row7 col14\" >0.524262</td>\n",
       "      <td id=\"T_df10d_row7_col15\" class=\"data row7 col15\" >0.512427</td>\n",
       "      <td id=\"T_df10d_row7_col16\" class=\"data row7 col16\" >0.193741</td>\n",
       "      <td id=\"T_df10d_row7_col17\" class=\"data row7 col17\" >0.050598</td>\n",
       "    </tr>\n",
       "    <tr>\n",
       "      <th id=\"T_df10d_level0_row8\" class=\"row_heading level0 row8\" >NumDealsPurchases</th>\n",
       "      <td id=\"T_df10d_row8_col0\" class=\"data row8 col0\" >-0.122392</td>\n",
       "      <td id=\"T_df10d_row8_col1\" class=\"data row8 col1\" >-0.001098</td>\n",
       "      <td id=\"T_df10d_row8_col2\" class=\"data row8 col2\" >0.010940</td>\n",
       "      <td id=\"T_df10d_row8_col3\" class=\"data row8 col3\" >-0.132114</td>\n",
       "      <td id=\"T_df10d_row8_col4\" class=\"data row8 col4\" >-0.122415</td>\n",
       "      <td id=\"T_df10d_row8_col5\" class=\"data row8 col5\" >-0.139361</td>\n",
       "      <td id=\"T_df10d_row8_col6\" class=\"data row8 col6\" >-0.120100</td>\n",
       "      <td id=\"T_df10d_row8_col7\" class=\"data row8 col7\" >0.049085</td>\n",
       "      <td id=\"T_df10d_row8_col8\" class=\"data row8 col8\" >1.000000</td>\n",
       "      <td id=\"T_df10d_row8_col9\" class=\"data row8 col9\" >0.234185</td>\n",
       "      <td id=\"T_df10d_row8_col10\" class=\"data row8 col10\" >-0.008617</td>\n",
       "      <td id=\"T_df10d_row8_col11\" class=\"data row8 col11\" >0.068879</td>\n",
       "      <td id=\"T_df10d_row8_col12\" class=\"data row8 col12\" >0.347633</td>\n",
       "      <td id=\"T_df10d_row8_col13\" class=\"data row8 col13\" >0.439684</td>\n",
       "      <td id=\"T_df10d_row8_col14\" class=\"data row8 col14\" >-0.065112</td>\n",
       "      <td id=\"T_df10d_row8_col15\" class=\"data row8 col15\" >0.117887</td>\n",
       "      <td id=\"T_df10d_row8_col16\" class=\"data row8 col16\" >-0.123949</td>\n",
       "      <td id=\"T_df10d_row8_col17\" class=\"data row8 col17\" >0.055258</td>\n",
       "    </tr>\n",
       "    <tr>\n",
       "      <th id=\"T_df10d_level0_row9\" class=\"row_heading level0 row9\" >NumWebPurchases</th>\n",
       "      <td id=\"T_df10d_row9_col0\" class=\"data row9 col0\" >0.482107</td>\n",
       "      <td id=\"T_df10d_row9_col1\" class=\"data row9 col1\" >-0.010726</td>\n",
       "      <td id=\"T_df10d_row9_col2\" class=\"data row9 col2\" >0.542265</td>\n",
       "      <td id=\"T_df10d_row9_col3\" class=\"data row9 col3\" >0.296735</td>\n",
       "      <td id=\"T_df10d_row9_col4\" class=\"data row9 col4\" >0.293761</td>\n",
       "      <td id=\"T_df10d_row9_col5\" class=\"data row9 col5\" >0.293681</td>\n",
       "      <td id=\"T_df10d_row9_col6\" class=\"data row9 col6\" >0.348544</td>\n",
       "      <td id=\"T_df10d_row9_col7\" class=\"data row9 col7\" >0.421836</td>\n",
       "      <td id=\"T_df10d_row9_col8\" class=\"data row9 col8\" >0.234185</td>\n",
       "      <td id=\"T_df10d_row9_col9\" class=\"data row9 col9\" >1.000000</td>\n",
       "      <td id=\"T_df10d_row9_col10\" class=\"data row9 col10\" >0.378376</td>\n",
       "      <td id=\"T_df10d_row9_col11\" class=\"data row9 col11\" >0.502713</td>\n",
       "      <td id=\"T_df10d_row9_col12\" class=\"data row9 col12\" >-0.055846</td>\n",
       "      <td id=\"T_df10d_row9_col13\" class=\"data row9 col13\" >-0.146361</td>\n",
       "      <td id=\"T_df10d_row9_col14\" class=\"data row9 col14\" >0.519837</td>\n",
       "      <td id=\"T_df10d_row9_col15\" class=\"data row9 col15\" >0.765923</td>\n",
       "      <td id=\"T_df10d_row9_col16\" class=\"data row9 col16\" >0.191544</td>\n",
       "      <td id=\"T_df10d_row9_col17\" class=\"data row9 col17\" >0.142002</td>\n",
       "    </tr>\n",
       "    <tr>\n",
       "      <th id=\"T_df10d_level0_row10\" class=\"row_heading level0 row10\" >NumCatalogPurchases</th>\n",
       "      <td id=\"T_df10d_row10_col0\" class=\"data row10 col0\" >0.685688</td>\n",
       "      <td id=\"T_df10d_row10_col1\" class=\"data row10 col1\" >0.025110</td>\n",
       "      <td id=\"T_df10d_row10_col2\" class=\"data row10 col2\" >0.635226</td>\n",
       "      <td id=\"T_df10d_row10_col3\" class=\"data row10 col3\" >0.487917</td>\n",
       "      <td id=\"T_df10d_row10_col4\" class=\"data row10 col4\" >0.723827</td>\n",
       "      <td id=\"T_df10d_row10_col5\" class=\"data row10 col5\" >0.534478</td>\n",
       "      <td id=\"T_df10d_row10_col6\" class=\"data row10 col6\" >0.490924</td>\n",
       "      <td id=\"T_df10d_row10_col7\" class=\"data row10 col7\" >0.437697</td>\n",
       "      <td id=\"T_df10d_row10_col8\" class=\"data row10 col8\" >-0.008617</td>\n",
       "      <td id=\"T_df10d_row10_col9\" class=\"data row10 col9\" >0.378376</td>\n",
       "      <td id=\"T_df10d_row10_col10\" class=\"data row10 col10\" >1.000000</td>\n",
       "      <td id=\"T_df10d_row10_col11\" class=\"data row10 col11\" >0.518738</td>\n",
       "      <td id=\"T_df10d_row10_col12\" class=\"data row10 col12\" >-0.520364</td>\n",
       "      <td id=\"T_df10d_row10_col13\" class=\"data row10 col13\" >-0.439904</td>\n",
       "      <td id=\"T_df10d_row10_col14\" class=\"data row10 col14\" >0.778577</td>\n",
       "      <td id=\"T_df10d_row10_col15\" class=\"data row10 col15\" >0.785609</td>\n",
       "      <td id=\"T_df10d_row10_col16\" class=\"data row10 col16\" >0.345822</td>\n",
       "      <td id=\"T_df10d_row10_col17\" class=\"data row10 col17\" >0.119539</td>\n",
       "    </tr>\n",
       "    <tr>\n",
       "      <th id=\"T_df10d_level0_row11\" class=\"row_heading level0 row11\" >NumStorePurchases</th>\n",
       "      <td id=\"T_df10d_row11_col0\" class=\"data row11 col0\" >0.667524</td>\n",
       "      <td id=\"T_df10d_row11_col1\" class=\"data row11 col1\" >0.000799</td>\n",
       "      <td id=\"T_df10d_row11_col2\" class=\"data row11 col2\" >0.642100</td>\n",
       "      <td id=\"T_df10d_row11_col3\" class=\"data row11 col3\" >0.461758</td>\n",
       "      <td id=\"T_df10d_row11_col4\" class=\"data row11 col4\" >0.479659</td>\n",
       "      <td id=\"T_df10d_row11_col5\" class=\"data row11 col5\" >0.459855</td>\n",
       "      <td id=\"T_df10d_row11_col6\" class=\"data row11 col6\" >0.448756</td>\n",
       "      <td id=\"T_df10d_row11_col7\" class=\"data row11 col7\" >0.381678</td>\n",
       "      <td id=\"T_df10d_row11_col8\" class=\"data row11 col8\" >0.068879</td>\n",
       "      <td id=\"T_df10d_row11_col9\" class=\"data row11 col9\" >0.502713</td>\n",
       "      <td id=\"T_df10d_row11_col10\" class=\"data row11 col10\" >0.518738</td>\n",
       "      <td id=\"T_df10d_row11_col11\" class=\"data row11 col11\" >1.000000</td>\n",
       "      <td id=\"T_df10d_row11_col12\" class=\"data row11 col12\" >-0.428473</td>\n",
       "      <td id=\"T_df10d_row11_col13\" class=\"data row11 col13\" >-0.321125</td>\n",
       "      <td id=\"T_df10d_row11_col14\" class=\"data row11 col14\" >0.674669</td>\n",
       "      <td id=\"T_df10d_row11_col15\" class=\"data row11 col15\" >0.855454</td>\n",
       "      <td id=\"T_df10d_row11_col16\" class=\"data row11 col16\" >0.206557</td>\n",
       "      <td id=\"T_df10d_row11_col17\" class=\"data row11 col17\" >0.130863</td>\n",
       "    </tr>\n",
       "    <tr>\n",
       "      <th id=\"T_df10d_level0_row12\" class=\"row_heading level0 row12\" >NumWebVisitsMonth</th>\n",
       "      <td id=\"T_df10d_row12_col0\" class=\"data row12 col0\" >-0.647464</td>\n",
       "      <td id=\"T_df10d_row12_col1\" class=\"data row12 col1\" >-0.021445</td>\n",
       "      <td id=\"T_df10d_row12_col2\" class=\"data row12 col2\" >-0.320653</td>\n",
       "      <td id=\"T_df10d_row12_col3\" class=\"data row12 col3\" >-0.418383</td>\n",
       "      <td id=\"T_df10d_row12_col4\" class=\"data row12 col4\" >-0.539470</td>\n",
       "      <td id=\"T_df10d_row12_col5\" class=\"data row12 col5\" >-0.446003</td>\n",
       "      <td id=\"T_df10d_row12_col6\" class=\"data row12 col6\" >-0.423294</td>\n",
       "      <td id=\"T_df10d_row12_col7\" class=\"data row12 col7\" >-0.250719</td>\n",
       "      <td id=\"T_df10d_row12_col8\" class=\"data row12 col8\" >0.347633</td>\n",
       "      <td id=\"T_df10d_row12_col9\" class=\"data row12 col9\" >-0.055846</td>\n",
       "      <td id=\"T_df10d_row12_col10\" class=\"data row12 col10\" >-0.520364</td>\n",
       "      <td id=\"T_df10d_row12_col11\" class=\"data row12 col11\" >-0.428473</td>\n",
       "      <td id=\"T_df10d_row12_col12\" class=\"data row12 col12\" >1.000000</td>\n",
       "      <td id=\"T_df10d_row12_col13\" class=\"data row12 col13\" >0.418419</td>\n",
       "      <td id=\"T_df10d_row12_col14\" class=\"data row12 col14\" >-0.500218</td>\n",
       "      <td id=\"T_df10d_row12_col15\" class=\"data row12 col15\" >-0.425939</td>\n",
       "      <td id=\"T_df10d_row12_col16\" class=\"data row12 col16\" >-0.166345</td>\n",
       "      <td id=\"T_df10d_row12_col17\" class=\"data row12 col17\" >-0.133247</td>\n",
       "    </tr>\n",
       "    <tr>\n",
       "      <th id=\"T_df10d_level0_row13\" class=\"row_heading level0 row13\" >Minorshome</th>\n",
       "      <td id=\"T_df10d_row13_col0\" class=\"data row13 col0\" >-0.347911</td>\n",
       "      <td id=\"T_df10d_row13_col1\" class=\"data row13 col1\" >0.018053</td>\n",
       "      <td id=\"T_df10d_row13_col2\" class=\"data row13 col2\" >-0.351909</td>\n",
       "      <td id=\"T_df10d_row13_col3\" class=\"data row13 col3\" >-0.394853</td>\n",
       "      <td id=\"T_df10d_row13_col4\" class=\"data row13 col4\" >-0.502208</td>\n",
       "      <td id=\"T_df10d_row13_col5\" class=\"data row13 col5\" >-0.425503</td>\n",
       "      <td id=\"T_df10d_row13_col6\" class=\"data row13 col6\" >-0.383137</td>\n",
       "      <td id=\"T_df10d_row13_col7\" class=\"data row13 col7\" >-0.266095</td>\n",
       "      <td id=\"T_df10d_row13_col8\" class=\"data row13 col8\" >0.439684</td>\n",
       "      <td id=\"T_df10d_row13_col9\" class=\"data row13 col9\" >-0.146361</td>\n",
       "      <td id=\"T_df10d_row13_col10\" class=\"data row13 col10\" >-0.439904</td>\n",
       "      <td id=\"T_df10d_row13_col11\" class=\"data row13 col11\" >-0.321125</td>\n",
       "      <td id=\"T_df10d_row13_col12\" class=\"data row13 col12\" >0.418419</td>\n",
       "      <td id=\"T_df10d_row13_col13\" class=\"data row13 col13\" >1.000000</td>\n",
       "      <td id=\"T_df10d_row13_col14\" class=\"data row13 col14\" >-0.498888</td>\n",
       "      <td id=\"T_df10d_row13_col15\" class=\"data row13 col15\" >-0.379773</td>\n",
       "      <td id=\"T_df10d_row13_col16\" class=\"data row13 col16\" >-0.244282</td>\n",
       "      <td id=\"T_df10d_row13_col17\" class=\"data row13 col17\" >0.095980</td>\n",
       "    </tr>\n",
       "    <tr>\n",
       "      <th id=\"T_df10d_level0_row14\" class=\"row_heading level0 row14\" >TotalMnt</th>\n",
       "      <td id=\"T_df10d_row14_col0\" class=\"data row14 col0\" >0.814439</td>\n",
       "      <td id=\"T_df10d_row14_col1\" class=\"data row14 col1\" >0.020433</td>\n",
       "      <td id=\"T_df10d_row14_col2\" class=\"data row14 col2\" >0.891839</td>\n",
       "      <td id=\"T_df10d_row14_col3\" class=\"data row14 col3\" >0.614229</td>\n",
       "      <td id=\"T_df10d_row14_col4\" class=\"data row14 col4\" >0.842965</td>\n",
       "      <td id=\"T_df10d_row14_col5\" class=\"data row14 col5\" >0.642818</td>\n",
       "      <td id=\"T_df10d_row14_col6\" class=\"data row14 col6\" >0.603016</td>\n",
       "      <td id=\"T_df10d_row14_col7\" class=\"data row14 col7\" >0.524262</td>\n",
       "      <td id=\"T_df10d_row14_col8\" class=\"data row14 col8\" >-0.065112</td>\n",
       "      <td id=\"T_df10d_row14_col9\" class=\"data row14 col9\" >0.519837</td>\n",
       "      <td id=\"T_df10d_row14_col10\" class=\"data row14 col10\" >0.778577</td>\n",
       "      <td id=\"T_df10d_row14_col11\" class=\"data row14 col11\" >0.674669</td>\n",
       "      <td id=\"T_df10d_row14_col12\" class=\"data row14 col12\" >-0.500218</td>\n",
       "      <td id=\"T_df10d_row14_col13\" class=\"data row14 col13\" >-0.498888</td>\n",
       "      <td id=\"T_df10d_row14_col14\" class=\"data row14 col14\" >1.000000</td>\n",
       "      <td id=\"T_df10d_row14_col15\" class=\"data row14 col15\" >0.820687</td>\n",
       "      <td id=\"T_df10d_row14_col16\" class=\"data row14 col16\" >0.459554</td>\n",
       "      <td id=\"T_df10d_row14_col17\" class=\"data row14 col17\" >0.104925</td>\n",
       "    </tr>\n",
       "    <tr>\n",
       "      <th id=\"T_df10d_level0_row15\" class=\"row_heading level0 row15\" >TotalPurchases</th>\n",
       "      <td id=\"T_df10d_row15_col0\" class=\"data row15 col0\" >0.765232</td>\n",
       "      <td id=\"T_df10d_row15_col1\" class=\"data row15 col1\" >0.006410</td>\n",
       "      <td id=\"T_df10d_row15_col2\" class=\"data row15 col2\" >0.756490</td>\n",
       "      <td id=\"T_df10d_row15_col3\" class=\"data row15 col3\" >0.520686</td>\n",
       "      <td id=\"T_df10d_row15_col4\" class=\"data row15 col4\" >0.623315</td>\n",
       "      <td id=\"T_df10d_row15_col5\" class=\"data row15 col5\" >0.537538</td>\n",
       "      <td id=\"T_df10d_row15_col6\" class=\"data row15 col6\" >0.536019</td>\n",
       "      <td id=\"T_df10d_row15_col7\" class=\"data row15 col7\" >0.512427</td>\n",
       "      <td id=\"T_df10d_row15_col8\" class=\"data row15 col8\" >0.117887</td>\n",
       "      <td id=\"T_df10d_row15_col9\" class=\"data row15 col9\" >0.765923</td>\n",
       "      <td id=\"T_df10d_row15_col10\" class=\"data row15 col10\" >0.785609</td>\n",
       "      <td id=\"T_df10d_row15_col11\" class=\"data row15 col11\" >0.855454</td>\n",
       "      <td id=\"T_df10d_row15_col12\" class=\"data row15 col12\" >-0.425939</td>\n",
       "      <td id=\"T_df10d_row15_col13\" class=\"data row15 col13\" >-0.379773</td>\n",
       "      <td id=\"T_df10d_row15_col14\" class=\"data row15 col14\" >0.820687</td>\n",
       "      <td id=\"T_df10d_row15_col15\" class=\"data row15 col15\" >1.000000</td>\n",
       "      <td id=\"T_df10d_row15_col16\" class=\"data row15 col16\" >0.307342</td>\n",
       "      <td id=\"T_df10d_row15_col17\" class=\"data row15 col17\" >0.162292</td>\n",
       "    </tr>\n",
       "    <tr>\n",
       "      <th id=\"T_df10d_level0_row16\" class=\"row_heading level0 row16\" >TotalCampPar</th>\n",
       "      <td id=\"T_df10d_row16_col0\" class=\"data row16 col0\" >0.382722</td>\n",
       "      <td id=\"T_df10d_row16_col1\" class=\"data row16 col1\" >-0.012570</td>\n",
       "      <td id=\"T_df10d_row16_col2\" class=\"data row16 col2\" >0.512358</td>\n",
       "      <td id=\"T_df10d_row16_col3\" class=\"data row16 col3\" >0.161002</td>\n",
       "      <td id=\"T_df10d_row16_col4\" class=\"data row16 col4\" >0.309313</td>\n",
       "      <td id=\"T_df10d_row16_col5\" class=\"data row16 col5\" >0.177830</td>\n",
       "      <td id=\"T_df10d_row16_col6\" class=\"data row16 col6\" >0.200237</td>\n",
       "      <td id=\"T_df10d_row16_col7\" class=\"data row16 col7\" >0.193741</td>\n",
       "      <td id=\"T_df10d_row16_col8\" class=\"data row16 col8\" >-0.123949</td>\n",
       "      <td id=\"T_df10d_row16_col9\" class=\"data row16 col9\" >0.191544</td>\n",
       "      <td id=\"T_df10d_row16_col10\" class=\"data row16 col10\" >0.345822</td>\n",
       "      <td id=\"T_df10d_row16_col11\" class=\"data row16 col11\" >0.206557</td>\n",
       "      <td id=\"T_df10d_row16_col12\" class=\"data row16 col12\" >-0.166345</td>\n",
       "      <td id=\"T_df10d_row16_col13\" class=\"data row16 col13\" >-0.244282</td>\n",
       "      <td id=\"T_df10d_row16_col14\" class=\"data row16 col14\" >0.459554</td>\n",
       "      <td id=\"T_df10d_row16_col15\" class=\"data row16 col15\" >0.307342</td>\n",
       "      <td id=\"T_df10d_row16_col16\" class=\"data row16 col16\" >1.000000</td>\n",
       "      <td id=\"T_df10d_row16_col17\" class=\"data row16 col17\" >0.001353</td>\n",
       "    </tr>\n",
       "    <tr>\n",
       "      <th id=\"T_df10d_level0_row17\" class=\"row_heading level0 row17\" >Age</th>\n",
       "      <td id=\"T_df10d_row17_col0\" class=\"data row17 col0\" >0.209738</td>\n",
       "      <td id=\"T_df10d_row17_col1\" class=\"data row17 col1\" >0.018347</td>\n",
       "      <td id=\"T_df10d_row17_col2\" class=\"data row17 col2\" >0.152842</td>\n",
       "      <td id=\"T_df10d_row17_col3\" class=\"data row17 col3\" >0.011817</td>\n",
       "      <td id=\"T_df10d_row17_col4\" class=\"data row17 col4\" >0.026214</td>\n",
       "      <td id=\"T_df10d_row17_col5\" class=\"data row17 col5\" >0.038442</td>\n",
       "      <td id=\"T_df10d_row17_col6\" class=\"data row17 col6\" >0.014975</td>\n",
       "      <td id=\"T_df10d_row17_col7\" class=\"data row17 col7\" >0.050598</td>\n",
       "      <td id=\"T_df10d_row17_col8\" class=\"data row17 col8\" >0.055258</td>\n",
       "      <td id=\"T_df10d_row17_col9\" class=\"data row17 col9\" >0.142002</td>\n",
       "      <td id=\"T_df10d_row17_col10\" class=\"data row17 col10\" >0.119539</td>\n",
       "      <td id=\"T_df10d_row17_col11\" class=\"data row17 col11\" >0.130863</td>\n",
       "      <td id=\"T_df10d_row17_col12\" class=\"data row17 col12\" >-0.133247</td>\n",
       "      <td id=\"T_df10d_row17_col13\" class=\"data row17 col13\" >0.095980</td>\n",
       "      <td id=\"T_df10d_row17_col14\" class=\"data row17 col14\" >0.104925</td>\n",
       "      <td id=\"T_df10d_row17_col15\" class=\"data row17 col15\" >0.162292</td>\n",
       "      <td id=\"T_df10d_row17_col16\" class=\"data row17 col16\" >0.001353</td>\n",
       "      <td id=\"T_df10d_row17_col17\" class=\"data row17 col17\" >1.000000</td>\n",
       "    </tr>\n",
       "  </tbody>\n",
       "</table>\n"
      ],
      "text/plain": [
       "<pandas.io.formats.style.Styler at 0x17e29692a00>"
      ]
     },
     "execution_count": 11,
     "metadata": {},
     "output_type": "execute_result"
    }
   ],
   "source": [
    "def correlation_threshold_background(cell_value):\n",
    "\n",
    "    greater = 'background-color: green;'\n",
    "    lower = 'background-color: red;'\n",
    "    default = ''\n",
    "\n",
    "    if type(cell_value) in [float, int]:\n",
    "        if cell_value >= 0.7:\n",
    "            return greater\n",
    "        elif cell_value <= -0.6:\n",
    "            return lower\n",
    "    return default\n",
    "\n",
    "correlation_df.corr().style.applymap(correlation_threshold_background)"
   ]
  },
  {
   "cell_type": "code",
   "execution_count": 188,
   "id": "6f1a8984",
   "metadata": {},
   "outputs": [
    {
     "data": {
      "text/html": [
       "\n",
       "        <iframe\n",
       "            width=\"100%\"\n",
       "            height=\"650\"\n",
       "            src=\"http://127.0.0.1:8050/\"\n",
       "            frameborder=\"0\"\n",
       "            allowfullscreen\n",
       "            \n",
       "        ></iframe>\n",
       "        "
      ],
      "text/plain": [
       "<IPython.lib.display.IFrame at 0x17e39c0e5b0>"
      ]
     },
     "metadata": {},
     "output_type": "display_data"
    }
   ],
   "source": [
    "app = JupyterDash(__name__)\n",
    "\n",
    "app.layout = html.Div([\n",
    "    html.Div([\n",
    "\n",
    "        html.Div([\n",
    "            dcc.Dropdown(\n",
    "                correlation_df.columns.tolist(),\n",
    "                'Income',\n",
    "                id='xaxis-column'\n",
    "            ),\n",
    "        ], style={'width': '48%', 'display': 'inline-block'}),\n",
    "\n",
    "        html.Div([\n",
    "            dcc.Dropdown(\n",
    "                correlation_df.columns.tolist(),\n",
    "                'Income',\n",
    "                id='yaxis-column'\n",
    "            ),\n",
    "        ], style={'width': '48%', 'float': 'right', 'display': 'inline-block'})\n",
    "    ]),\n",
    "    \n",
    "    dcc.Graph(id = 'correlation-scatter-plot', figure=fig)\n",
    "])\n",
    "\n",
    "@app.callback(\n",
    "    Output('correlation-scatter-plot', 'figure'),\n",
    "    Input('xaxis-column', 'value'),\n",
    "    Input('yaxis-column', 'value'))\n",
    "\n",
    "def update_graph(xaxis_column_name, yaxis_column_name):\n",
    "\n",
    "    fig = px.scatter(x = marketing_df[xaxis_column_name],\n",
    "                     y = marketing_df[yaxis_column_name], \n",
    "                     trendline = 'ols', \n",
    "                     labels = {'x' :  xaxis_column_name, 'y': yaxis_column_name}, \n",
    "                     title = yaxis_column_name + ' vs ' + xaxis_column_name\n",
    "                     )\n",
    "\n",
    "    fig.update_layout(margin={'l': 40, 'b': 40, 't': 60, 'r': 0}, hovermode='closest')\n",
    "\n",
    "    return fig\n",
    "\n",
    "app.run_server(mode='inline')"
   ]
  },
  {
   "cell_type": "code",
   "execution_count": 24,
   "id": "c6869a73",
   "metadata": {},
   "outputs": [],
   "source": [
    "number_of_complaints = marketing_df.Complain.sum(axis = 0)\n",
    "\n",
    "complaints_percentage = round((number_of_complaints / len(marketing_df))*100, 2)\n",
    "non_complaints_percentage = 100 - complaints_percentage"
   ]
  },
  {
   "cell_type": "code",
   "execution_count": 43,
   "id": "a4c013a2",
   "metadata": {},
   "outputs": [
    {
     "data": {
      "text/html": [
       "\n",
       "        <iframe\n",
       "            width=\"100%\"\n",
       "            height=\"650\"\n",
       "            src=\"http://127.0.0.1:8050/\"\n",
       "            frameborder=\"0\"\n",
       "            allowfullscreen\n",
       "            \n",
       "        ></iframe>\n",
       "        "
      ],
      "text/plain": [
       "<IPython.lib.display.IFrame at 0x17e2e41ae50>"
      ]
     },
     "metadata": {},
     "output_type": "display_data"
    }
   ],
   "source": [
    "app = JupyterDash(__name__)\n",
    "\n",
    "labels = ['No Complaints', 'Complaints']\n",
    "values = [non_complaints_percentage, complaints_percentage]\n",
    "\n",
    "fig = go.Figure(data=[go.Pie(labels=labels, values=values, hole=.5, pull=[0, 0.1], name=\"Percentage of Complaints\")])\n",
    "\n",
    "fig.update_traces(hoverinfo=\"label+percent+name\")\n",
    "\n",
    "fig.update_layout(\n",
    "    title_text=\"Percentage of Complaints in the last two years\",\n",
    "    \n",
    "    annotations=[dict(text='Complaints', x=0.5, y=0.5, font_size=20, showarrow=False)]\n",
    ")\n",
    "\n",
    "app.layout = html.Div([\n",
    "    dcc.Graph(figure=fig)\n",
    "])\n",
    "\n",
    "app.run_server(mode='inline')"
   ]
  },
  {
   "cell_type": "code",
   "execution_count": 63,
   "id": "00317d7d",
   "metadata": {},
   "outputs": [
    {
     "data": {
      "text/html": [
       "\n",
       "        <iframe\n",
       "            width=\"100%\"\n",
       "            height=\"650\"\n",
       "            src=\"http://127.0.0.1:8050/\"\n",
       "            frameborder=\"0\"\n",
       "            allowfullscreen\n",
       "            \n",
       "        ></iframe>\n",
       "        "
      ],
      "text/plain": [
       "<IPython.lib.display.IFrame at 0x17e330c1400>"
      ]
     },
     "metadata": {},
     "output_type": "display_data"
    }
   ],
   "source": [
    "app = JupyterDash(__name__)\n",
    "\n",
    "app.layout = html.Div([\n",
    "    html.Div([\n",
    "\n",
    "        html.Div([\n",
    "            dcc.Dropdown(\n",
    "                correlation_df.columns.tolist() + ['Response'],\n",
    "                'Income',\n",
    "                id='xaxis-column'\n",
    "            ),\n",
    "        ], style={'width': '48%', 'display': 'inline-block'}),\n",
    "\n",
    "        html.Div([\n",
    "            dcc.Dropdown(\n",
    "                correlation_df.columns.tolist() + ['Response'],\n",
    "                'Income',\n",
    "                id='yaxis-column'\n",
    "            ),\n",
    "        ], style={'width': '48%', 'float': 'right', 'display': 'inline-block'})\n",
    "    ]),\n",
    "    \n",
    "    dcc.Graph(id = 'box-plot', figure=fig)\n",
    "])\n",
    "\n",
    "@app.callback(\n",
    "    Output('box-plot', 'figure'),\n",
    "    Input('xaxis-column', 'value'),\n",
    "    Input('yaxis-column', 'value'))\n",
    "\n",
    "def update_graph(xaxis_column_name, yaxis_column_name):\n",
    "\n",
    "    fig = px.box(x = marketing_df[xaxis_column_name],\n",
    "                 y = marketing_df[yaxis_column_name], \n",
    "                 labels = {'x' :  xaxis_column_name, 'y': yaxis_column_name}, \n",
    "                 title = yaxis_column_name + ' vs ' + xaxis_column_name + '  - Box Plot'\n",
    "                )\n",
    "\n",
    "    fig.update_layout(margin={'l': 40, 'b': 40, 't': 60, 'r': 0}, hovermode='closest')\n",
    "\n",
    "    return fig\n",
    "\n",
    "app.run_server(mode='inline')"
   ]
  },
  {
   "cell_type": "code",
   "execution_count": 190,
   "id": "db3431a0",
   "metadata": {},
   "outputs": [],
   "source": [
    "def relation_categorical_testing(df, row, col):\n",
    "    col_levels = df[col].unique().tolist()\n",
    "    row_levels = df[row].unique().tolist()\n",
    "\n",
    "    count_list = []\n",
    "    count_level_list = []\n",
    "    cross_tab_data_list = []\n",
    "    for i in row_levels:\n",
    "        for j in col_levels:\n",
    "            count_level_list.append((i,j))\n",
    "            count_list.append(len(df.loc[(df[row] == i) & (df[col] == j)]))\n",
    "\n",
    "    for i, j in zip(count_level_list, count_list):\n",
    "        for k in range(j):\n",
    "            cross_tab_data_list.append([i[0], i[1]])\n",
    "\n",
    "    df = pd.DataFrame(cross_tab_data_list, columns = [row, col]) \n",
    "\n",
    "    data_crosstab = pd.crosstab(df[row],\n",
    "                                df[col],\n",
    "                               margins=True, margins_name=\"Total\")\n",
    "\n",
    "    # significance level\n",
    "    alpha = 0.05\n",
    "\n",
    "    # Calcualtion of Chisquare\n",
    "    chi_square = 0\n",
    "    rows = df[row].unique()\n",
    "    columns = df[col].unique()\n",
    "    for i in col_levels:\n",
    "        for j in row_levels:\n",
    "            O = data_crosstab[i][j]\n",
    "            E = data_crosstab[i]['Total'] * data_crosstab['Total'][j] / data_crosstab['Total']['Total']\n",
    "            chi_square += (O-E)**2/E\n",
    "\n",
    "    # The p-value approach\n",
    "    print(\"Approach : The p-value approach to hypothesis testing in the decision rule\")\n",
    "    p_value = 1 - stats.chi2.cdf(chi_square, (len(row_levels)-1)*(len(col_levels)-1))\n",
    "    conclusion = \"Failed to reject the null hypothesis.\"\n",
    "    if p_value <= alpha:\n",
    "        \n",
    "        data_crosstab_without_margins = pd.crosstab(df[row],\n",
    "                                df[col],\n",
    "                               margins=False)\n",
    "    \n",
    "    \n",
    "        expected_crosstab = pd.DataFrame(\n",
    "                                    columns = data_crosstab_without_margins.columns.tolist(), \n",
    "                                    index = data_crosstab_without_margins.index.tolist(),\n",
    "                                    data = stats.chi2_contingency(observed = data_crosstab_without_margins)[3] \n",
    "                                    )\n",
    "        chi_square_table = (data_crosstab_without_margins - expected_crosstab)**2 / expected_crosstab\n",
    "        fig = px.imshow(chi_square_table, text_auto=True, aspect=\"auto\")\n",
    "        fig.show()\n",
    "        \n",
    "        conclusion = \"Null Hypothesis is rejected.\"\n",
    "\n",
    "    print(\"chisquare-score is:\", chi_square, \"and p value is:\", p_value)\n",
    "    print(conclusion)"
   ]
  },
  {
   "cell_type": "markdown",
   "id": "513705ac",
   "metadata": {},
   "source": [
    "> Null Hypothesis - No Relationship between the given categorical columns"
   ]
  },
  {
   "cell_type": "code",
   "execution_count": 189,
   "id": "53b3f491",
   "metadata": {},
   "outputs": [
    {
     "name": "stdout",
     "output_type": "stream",
     "text": [
      "Approach : The p-value approach to hypothesis testing in the decision rule\n"
     ]
    },
    {
     "data": {
      "application/vnd.plotly.v1+json": {
       "config": {
        "plotlyServerURL": "https://plot.ly"
       },
       "data": [
        {
         "coloraxis": "coloraxis",
         "hovertemplate": "Response: %{x}<br>TotalCampPar: %{y}<br>color: %{z}<extra></extra>",
         "name": "0",
         "texttemplate": "%{z}",
         "type": "heatmap",
         "x": [
          0,
          1
         ],
         "xaxis": "x",
         "y": [
          0,
          1,
          2,
          3,
          4
         ],
         "yaxis": "y",
         "z": [
          [
           9.359752781928394,
           53.41224192322006
          ],
          [
           9.982167432515013,
           56.964105168783306
          ],
          [
           12.426177965497125,
           70.91106347975305
          ],
          [
           21.602788528365654,
           123.27818842833811
          ],
          [
           7.46666107371118,
           42.60914972004044
          ]
         ]
        }
       ],
       "layout": {
        "coloraxis": {
         "colorscale": [
          [
           0,
           "#0d0887"
          ],
          [
           0.1111111111111111,
           "#46039f"
          ],
          [
           0.2222222222222222,
           "#7201a8"
          ],
          [
           0.3333333333333333,
           "#9c179e"
          ],
          [
           0.4444444444444444,
           "#bd3786"
          ],
          [
           0.5555555555555556,
           "#d8576b"
          ],
          [
           0.6666666666666666,
           "#ed7953"
          ],
          [
           0.7777777777777778,
           "#fb9f3a"
          ],
          [
           0.8888888888888888,
           "#fdca26"
          ],
          [
           1,
           "#f0f921"
          ]
         ]
        },
        "margin": {
         "t": 60
        },
        "template": {
         "data": {
          "bar": [
           {
            "error_x": {
             "color": "#2a3f5f"
            },
            "error_y": {
             "color": "#2a3f5f"
            },
            "marker": {
             "line": {
              "color": "#E5ECF6",
              "width": 0.5
             },
             "pattern": {
              "fillmode": "overlay",
              "size": 10,
              "solidity": 0.2
             }
            },
            "type": "bar"
           }
          ],
          "barpolar": [
           {
            "marker": {
             "line": {
              "color": "#E5ECF6",
              "width": 0.5
             },
             "pattern": {
              "fillmode": "overlay",
              "size": 10,
              "solidity": 0.2
             }
            },
            "type": "barpolar"
           }
          ],
          "carpet": [
           {
            "aaxis": {
             "endlinecolor": "#2a3f5f",
             "gridcolor": "white",
             "linecolor": "white",
             "minorgridcolor": "white",
             "startlinecolor": "#2a3f5f"
            },
            "baxis": {
             "endlinecolor": "#2a3f5f",
             "gridcolor": "white",
             "linecolor": "white",
             "minorgridcolor": "white",
             "startlinecolor": "#2a3f5f"
            },
            "type": "carpet"
           }
          ],
          "choropleth": [
           {
            "colorbar": {
             "outlinewidth": 0,
             "ticks": ""
            },
            "type": "choropleth"
           }
          ],
          "contour": [
           {
            "colorbar": {
             "outlinewidth": 0,
             "ticks": ""
            },
            "colorscale": [
             [
              0,
              "#0d0887"
             ],
             [
              0.1111111111111111,
              "#46039f"
             ],
             [
              0.2222222222222222,
              "#7201a8"
             ],
             [
              0.3333333333333333,
              "#9c179e"
             ],
             [
              0.4444444444444444,
              "#bd3786"
             ],
             [
              0.5555555555555556,
              "#d8576b"
             ],
             [
              0.6666666666666666,
              "#ed7953"
             ],
             [
              0.7777777777777778,
              "#fb9f3a"
             ],
             [
              0.8888888888888888,
              "#fdca26"
             ],
             [
              1,
              "#f0f921"
             ]
            ],
            "type": "contour"
           }
          ],
          "contourcarpet": [
           {
            "colorbar": {
             "outlinewidth": 0,
             "ticks": ""
            },
            "type": "contourcarpet"
           }
          ],
          "heatmap": [
           {
            "colorbar": {
             "outlinewidth": 0,
             "ticks": ""
            },
            "colorscale": [
             [
              0,
              "#0d0887"
             ],
             [
              0.1111111111111111,
              "#46039f"
             ],
             [
              0.2222222222222222,
              "#7201a8"
             ],
             [
              0.3333333333333333,
              "#9c179e"
             ],
             [
              0.4444444444444444,
              "#bd3786"
             ],
             [
              0.5555555555555556,
              "#d8576b"
             ],
             [
              0.6666666666666666,
              "#ed7953"
             ],
             [
              0.7777777777777778,
              "#fb9f3a"
             ],
             [
              0.8888888888888888,
              "#fdca26"
             ],
             [
              1,
              "#f0f921"
             ]
            ],
            "type": "heatmap"
           }
          ],
          "heatmapgl": [
           {
            "colorbar": {
             "outlinewidth": 0,
             "ticks": ""
            },
            "colorscale": [
             [
              0,
              "#0d0887"
             ],
             [
              0.1111111111111111,
              "#46039f"
             ],
             [
              0.2222222222222222,
              "#7201a8"
             ],
             [
              0.3333333333333333,
              "#9c179e"
             ],
             [
              0.4444444444444444,
              "#bd3786"
             ],
             [
              0.5555555555555556,
              "#d8576b"
             ],
             [
              0.6666666666666666,
              "#ed7953"
             ],
             [
              0.7777777777777778,
              "#fb9f3a"
             ],
             [
              0.8888888888888888,
              "#fdca26"
             ],
             [
              1,
              "#f0f921"
             ]
            ],
            "type": "heatmapgl"
           }
          ],
          "histogram": [
           {
            "marker": {
             "pattern": {
              "fillmode": "overlay",
              "size": 10,
              "solidity": 0.2
             }
            },
            "type": "histogram"
           }
          ],
          "histogram2d": [
           {
            "colorbar": {
             "outlinewidth": 0,
             "ticks": ""
            },
            "colorscale": [
             [
              0,
              "#0d0887"
             ],
             [
              0.1111111111111111,
              "#46039f"
             ],
             [
              0.2222222222222222,
              "#7201a8"
             ],
             [
              0.3333333333333333,
              "#9c179e"
             ],
             [
              0.4444444444444444,
              "#bd3786"
             ],
             [
              0.5555555555555556,
              "#d8576b"
             ],
             [
              0.6666666666666666,
              "#ed7953"
             ],
             [
              0.7777777777777778,
              "#fb9f3a"
             ],
             [
              0.8888888888888888,
              "#fdca26"
             ],
             [
              1,
              "#f0f921"
             ]
            ],
            "type": "histogram2d"
           }
          ],
          "histogram2dcontour": [
           {
            "colorbar": {
             "outlinewidth": 0,
             "ticks": ""
            },
            "colorscale": [
             [
              0,
              "#0d0887"
             ],
             [
              0.1111111111111111,
              "#46039f"
             ],
             [
              0.2222222222222222,
              "#7201a8"
             ],
             [
              0.3333333333333333,
              "#9c179e"
             ],
             [
              0.4444444444444444,
              "#bd3786"
             ],
             [
              0.5555555555555556,
              "#d8576b"
             ],
             [
              0.6666666666666666,
              "#ed7953"
             ],
             [
              0.7777777777777778,
              "#fb9f3a"
             ],
             [
              0.8888888888888888,
              "#fdca26"
             ],
             [
              1,
              "#f0f921"
             ]
            ],
            "type": "histogram2dcontour"
           }
          ],
          "mesh3d": [
           {
            "colorbar": {
             "outlinewidth": 0,
             "ticks": ""
            },
            "type": "mesh3d"
           }
          ],
          "parcoords": [
           {
            "line": {
             "colorbar": {
              "outlinewidth": 0,
              "ticks": ""
             }
            },
            "type": "parcoords"
           }
          ],
          "pie": [
           {
            "automargin": true,
            "type": "pie"
           }
          ],
          "scatter": [
           {
            "fillpattern": {
             "fillmode": "overlay",
             "size": 10,
             "solidity": 0.2
            },
            "type": "scatter"
           }
          ],
          "scatter3d": [
           {
            "line": {
             "colorbar": {
              "outlinewidth": 0,
              "ticks": ""
             }
            },
            "marker": {
             "colorbar": {
              "outlinewidth": 0,
              "ticks": ""
             }
            },
            "type": "scatter3d"
           }
          ],
          "scattercarpet": [
           {
            "marker": {
             "colorbar": {
              "outlinewidth": 0,
              "ticks": ""
             }
            },
            "type": "scattercarpet"
           }
          ],
          "scattergeo": [
           {
            "marker": {
             "colorbar": {
              "outlinewidth": 0,
              "ticks": ""
             }
            },
            "type": "scattergeo"
           }
          ],
          "scattergl": [
           {
            "marker": {
             "colorbar": {
              "outlinewidth": 0,
              "ticks": ""
             }
            },
            "type": "scattergl"
           }
          ],
          "scattermapbox": [
           {
            "marker": {
             "colorbar": {
              "outlinewidth": 0,
              "ticks": ""
             }
            },
            "type": "scattermapbox"
           }
          ],
          "scatterpolar": [
           {
            "marker": {
             "colorbar": {
              "outlinewidth": 0,
              "ticks": ""
             }
            },
            "type": "scatterpolar"
           }
          ],
          "scatterpolargl": [
           {
            "marker": {
             "colorbar": {
              "outlinewidth": 0,
              "ticks": ""
             }
            },
            "type": "scatterpolargl"
           }
          ],
          "scatterternary": [
           {
            "marker": {
             "colorbar": {
              "outlinewidth": 0,
              "ticks": ""
             }
            },
            "type": "scatterternary"
           }
          ],
          "surface": [
           {
            "colorbar": {
             "outlinewidth": 0,
             "ticks": ""
            },
            "colorscale": [
             [
              0,
              "#0d0887"
             ],
             [
              0.1111111111111111,
              "#46039f"
             ],
             [
              0.2222222222222222,
              "#7201a8"
             ],
             [
              0.3333333333333333,
              "#9c179e"
             ],
             [
              0.4444444444444444,
              "#bd3786"
             ],
             [
              0.5555555555555556,
              "#d8576b"
             ],
             [
              0.6666666666666666,
              "#ed7953"
             ],
             [
              0.7777777777777778,
              "#fb9f3a"
             ],
             [
              0.8888888888888888,
              "#fdca26"
             ],
             [
              1,
              "#f0f921"
             ]
            ],
            "type": "surface"
           }
          ],
          "table": [
           {
            "cells": {
             "fill": {
              "color": "#EBF0F8"
             },
             "line": {
              "color": "white"
             }
            },
            "header": {
             "fill": {
              "color": "#C8D4E3"
             },
             "line": {
              "color": "white"
             }
            },
            "type": "table"
           }
          ]
         },
         "layout": {
          "annotationdefaults": {
           "arrowcolor": "#2a3f5f",
           "arrowhead": 0,
           "arrowwidth": 1
          },
          "autotypenumbers": "strict",
          "coloraxis": {
           "colorbar": {
            "outlinewidth": 0,
            "ticks": ""
           }
          },
          "colorscale": {
           "diverging": [
            [
             0,
             "#8e0152"
            ],
            [
             0.1,
             "#c51b7d"
            ],
            [
             0.2,
             "#de77ae"
            ],
            [
             0.3,
             "#f1b6da"
            ],
            [
             0.4,
             "#fde0ef"
            ],
            [
             0.5,
             "#f7f7f7"
            ],
            [
             0.6,
             "#e6f5d0"
            ],
            [
             0.7,
             "#b8e186"
            ],
            [
             0.8,
             "#7fbc41"
            ],
            [
             0.9,
             "#4d9221"
            ],
            [
             1,
             "#276419"
            ]
           ],
           "sequential": [
            [
             0,
             "#0d0887"
            ],
            [
             0.1111111111111111,
             "#46039f"
            ],
            [
             0.2222222222222222,
             "#7201a8"
            ],
            [
             0.3333333333333333,
             "#9c179e"
            ],
            [
             0.4444444444444444,
             "#bd3786"
            ],
            [
             0.5555555555555556,
             "#d8576b"
            ],
            [
             0.6666666666666666,
             "#ed7953"
            ],
            [
             0.7777777777777778,
             "#fb9f3a"
            ],
            [
             0.8888888888888888,
             "#fdca26"
            ],
            [
             1,
             "#f0f921"
            ]
           ],
           "sequentialminus": [
            [
             0,
             "#0d0887"
            ],
            [
             0.1111111111111111,
             "#46039f"
            ],
            [
             0.2222222222222222,
             "#7201a8"
            ],
            [
             0.3333333333333333,
             "#9c179e"
            ],
            [
             0.4444444444444444,
             "#bd3786"
            ],
            [
             0.5555555555555556,
             "#d8576b"
            ],
            [
             0.6666666666666666,
             "#ed7953"
            ],
            [
             0.7777777777777778,
             "#fb9f3a"
            ],
            [
             0.8888888888888888,
             "#fdca26"
            ],
            [
             1,
             "#f0f921"
            ]
           ]
          },
          "colorway": [
           "#636efa",
           "#EF553B",
           "#00cc96",
           "#ab63fa",
           "#FFA15A",
           "#19d3f3",
           "#FF6692",
           "#B6E880",
           "#FF97FF",
           "#FECB52"
          ],
          "font": {
           "color": "#2a3f5f"
          },
          "geo": {
           "bgcolor": "white",
           "lakecolor": "white",
           "landcolor": "#E5ECF6",
           "showlakes": true,
           "showland": true,
           "subunitcolor": "white"
          },
          "hoverlabel": {
           "align": "left"
          },
          "hovermode": "closest",
          "mapbox": {
           "style": "light"
          },
          "paper_bgcolor": "white",
          "plot_bgcolor": "#E5ECF6",
          "polar": {
           "angularaxis": {
            "gridcolor": "white",
            "linecolor": "white",
            "ticks": ""
           },
           "bgcolor": "#E5ECF6",
           "radialaxis": {
            "gridcolor": "white",
            "linecolor": "white",
            "ticks": ""
           }
          },
          "scene": {
           "xaxis": {
            "backgroundcolor": "#E5ECF6",
            "gridcolor": "white",
            "gridwidth": 2,
            "linecolor": "white",
            "showbackground": true,
            "ticks": "",
            "zerolinecolor": "white"
           },
           "yaxis": {
            "backgroundcolor": "#E5ECF6",
            "gridcolor": "white",
            "gridwidth": 2,
            "linecolor": "white",
            "showbackground": true,
            "ticks": "",
            "zerolinecolor": "white"
           },
           "zaxis": {
            "backgroundcolor": "#E5ECF6",
            "gridcolor": "white",
            "gridwidth": 2,
            "linecolor": "white",
            "showbackground": true,
            "ticks": "",
            "zerolinecolor": "white"
           }
          },
          "shapedefaults": {
           "line": {
            "color": "#2a3f5f"
           }
          },
          "ternary": {
           "aaxis": {
            "gridcolor": "white",
            "linecolor": "white",
            "ticks": ""
           },
           "baxis": {
            "gridcolor": "white",
            "linecolor": "white",
            "ticks": ""
           },
           "bgcolor": "#E5ECF6",
           "caxis": {
            "gridcolor": "white",
            "linecolor": "white",
            "ticks": ""
           }
          },
          "title": {
           "x": 0.05
          },
          "xaxis": {
           "automargin": true,
           "gridcolor": "white",
           "linecolor": "white",
           "ticks": "",
           "title": {
            "standoff": 15
           },
           "zerolinecolor": "white",
           "zerolinewidth": 2
          },
          "yaxis": {
           "automargin": true,
           "gridcolor": "white",
           "linecolor": "white",
           "ticks": "",
           "title": {
            "standoff": 15
           },
           "zerolinecolor": "white",
           "zerolinewidth": 2
          }
         }
        },
        "xaxis": {
         "anchor": "y",
         "domain": [
          0,
          1
         ],
         "title": {
          "text": "Response"
         }
        },
        "yaxis": {
         "anchor": "x",
         "autorange": "reversed",
         "domain": [
          0,
          1
         ],
         "title": {
          "text": "TotalCampPar"
         }
        }
       }
      },
      "text/html": [
       "<div>                            <div id=\"320acc9d-ca09-4372-8666-ff969467d5f8\" class=\"plotly-graph-div\" style=\"height:525px; width:100%;\"></div>            <script type=\"text/javascript\">                require([\"plotly\"], function(Plotly) {                    window.PLOTLYENV=window.PLOTLYENV || {};                                    if (document.getElementById(\"320acc9d-ca09-4372-8666-ff969467d5f8\")) {                    Plotly.newPlot(                        \"320acc9d-ca09-4372-8666-ff969467d5f8\",                        [{\"coloraxis\":\"coloraxis\",\"name\":\"0\",\"texttemplate\":\"%{z}\",\"x\":[0,1],\"y\":[0,1,2,3,4],\"z\":[[9.359752781928394,53.41224192322006],[9.982167432515013,56.964105168783306],[12.426177965497125,70.91106347975305],[21.602788528365654,123.27818842833811],[7.46666107371118,42.60914972004044]],\"type\":\"heatmap\",\"xaxis\":\"x\",\"yaxis\":\"y\",\"hovertemplate\":\"Response: %{x}<br>TotalCampPar: %{y}<br>color: %{z}<extra></extra>\"}],                        {\"template\":{\"data\":{\"histogram2dcontour\":[{\"type\":\"histogram2dcontour\",\"colorbar\":{\"outlinewidth\":0,\"ticks\":\"\"},\"colorscale\":[[0.0,\"#0d0887\"],[0.1111111111111111,\"#46039f\"],[0.2222222222222222,\"#7201a8\"],[0.3333333333333333,\"#9c179e\"],[0.4444444444444444,\"#bd3786\"],[0.5555555555555556,\"#d8576b\"],[0.6666666666666666,\"#ed7953\"],[0.7777777777777778,\"#fb9f3a\"],[0.8888888888888888,\"#fdca26\"],[1.0,\"#f0f921\"]]}],\"choropleth\":[{\"type\":\"choropleth\",\"colorbar\":{\"outlinewidth\":0,\"ticks\":\"\"}}],\"histogram2d\":[{\"type\":\"histogram2d\",\"colorbar\":{\"outlinewidth\":0,\"ticks\":\"\"},\"colorscale\":[[0.0,\"#0d0887\"],[0.1111111111111111,\"#46039f\"],[0.2222222222222222,\"#7201a8\"],[0.3333333333333333,\"#9c179e\"],[0.4444444444444444,\"#bd3786\"],[0.5555555555555556,\"#d8576b\"],[0.6666666666666666,\"#ed7953\"],[0.7777777777777778,\"#fb9f3a\"],[0.8888888888888888,\"#fdca26\"],[1.0,\"#f0f921\"]]}],\"heatmap\":[{\"type\":\"heatmap\",\"colorbar\":{\"outlinewidth\":0,\"ticks\":\"\"},\"colorscale\":[[0.0,\"#0d0887\"],[0.1111111111111111,\"#46039f\"],[0.2222222222222222,\"#7201a8\"],[0.3333333333333333,\"#9c179e\"],[0.4444444444444444,\"#bd3786\"],[0.5555555555555556,\"#d8576b\"],[0.6666666666666666,\"#ed7953\"],[0.7777777777777778,\"#fb9f3a\"],[0.8888888888888888,\"#fdca26\"],[1.0,\"#f0f921\"]]}],\"heatmapgl\":[{\"type\":\"heatmapgl\",\"colorbar\":{\"outlinewidth\":0,\"ticks\":\"\"},\"colorscale\":[[0.0,\"#0d0887\"],[0.1111111111111111,\"#46039f\"],[0.2222222222222222,\"#7201a8\"],[0.3333333333333333,\"#9c179e\"],[0.4444444444444444,\"#bd3786\"],[0.5555555555555556,\"#d8576b\"],[0.6666666666666666,\"#ed7953\"],[0.7777777777777778,\"#fb9f3a\"],[0.8888888888888888,\"#fdca26\"],[1.0,\"#f0f921\"]]}],\"contourcarpet\":[{\"type\":\"contourcarpet\",\"colorbar\":{\"outlinewidth\":0,\"ticks\":\"\"}}],\"contour\":[{\"type\":\"contour\",\"colorbar\":{\"outlinewidth\":0,\"ticks\":\"\"},\"colorscale\":[[0.0,\"#0d0887\"],[0.1111111111111111,\"#46039f\"],[0.2222222222222222,\"#7201a8\"],[0.3333333333333333,\"#9c179e\"],[0.4444444444444444,\"#bd3786\"],[0.5555555555555556,\"#d8576b\"],[0.6666666666666666,\"#ed7953\"],[0.7777777777777778,\"#fb9f3a\"],[0.8888888888888888,\"#fdca26\"],[1.0,\"#f0f921\"]]}],\"surface\":[{\"type\":\"surface\",\"colorbar\":{\"outlinewidth\":0,\"ticks\":\"\"},\"colorscale\":[[0.0,\"#0d0887\"],[0.1111111111111111,\"#46039f\"],[0.2222222222222222,\"#7201a8\"],[0.3333333333333333,\"#9c179e\"],[0.4444444444444444,\"#bd3786\"],[0.5555555555555556,\"#d8576b\"],[0.6666666666666666,\"#ed7953\"],[0.7777777777777778,\"#fb9f3a\"],[0.8888888888888888,\"#fdca26\"],[1.0,\"#f0f921\"]]}],\"mesh3d\":[{\"type\":\"mesh3d\",\"colorbar\":{\"outlinewidth\":0,\"ticks\":\"\"}}],\"scatter\":[{\"fillpattern\":{\"fillmode\":\"overlay\",\"size\":10,\"solidity\":0.2},\"type\":\"scatter\"}],\"parcoords\":[{\"type\":\"parcoords\",\"line\":{\"colorbar\":{\"outlinewidth\":0,\"ticks\":\"\"}}}],\"scatterpolargl\":[{\"type\":\"scatterpolargl\",\"marker\":{\"colorbar\":{\"outlinewidth\":0,\"ticks\":\"\"}}}],\"bar\":[{\"error_x\":{\"color\":\"#2a3f5f\"},\"error_y\":{\"color\":\"#2a3f5f\"},\"marker\":{\"line\":{\"color\":\"#E5ECF6\",\"width\":0.5},\"pattern\":{\"fillmode\":\"overlay\",\"size\":10,\"solidity\":0.2}},\"type\":\"bar\"}],\"scattergeo\":[{\"type\":\"scattergeo\",\"marker\":{\"colorbar\":{\"outlinewidth\":0,\"ticks\":\"\"}}}],\"scatterpolar\":[{\"type\":\"scatterpolar\",\"marker\":{\"colorbar\":{\"outlinewidth\":0,\"ticks\":\"\"}}}],\"histogram\":[{\"marker\":{\"pattern\":{\"fillmode\":\"overlay\",\"size\":10,\"solidity\":0.2}},\"type\":\"histogram\"}],\"scattergl\":[{\"type\":\"scattergl\",\"marker\":{\"colorbar\":{\"outlinewidth\":0,\"ticks\":\"\"}}}],\"scatter3d\":[{\"type\":\"scatter3d\",\"line\":{\"colorbar\":{\"outlinewidth\":0,\"ticks\":\"\"}},\"marker\":{\"colorbar\":{\"outlinewidth\":0,\"ticks\":\"\"}}}],\"scattermapbox\":[{\"type\":\"scattermapbox\",\"marker\":{\"colorbar\":{\"outlinewidth\":0,\"ticks\":\"\"}}}],\"scatterternary\":[{\"type\":\"scatterternary\",\"marker\":{\"colorbar\":{\"outlinewidth\":0,\"ticks\":\"\"}}}],\"scattercarpet\":[{\"type\":\"scattercarpet\",\"marker\":{\"colorbar\":{\"outlinewidth\":0,\"ticks\":\"\"}}}],\"carpet\":[{\"aaxis\":{\"endlinecolor\":\"#2a3f5f\",\"gridcolor\":\"white\",\"linecolor\":\"white\",\"minorgridcolor\":\"white\",\"startlinecolor\":\"#2a3f5f\"},\"baxis\":{\"endlinecolor\":\"#2a3f5f\",\"gridcolor\":\"white\",\"linecolor\":\"white\",\"minorgridcolor\":\"white\",\"startlinecolor\":\"#2a3f5f\"},\"type\":\"carpet\"}],\"table\":[{\"cells\":{\"fill\":{\"color\":\"#EBF0F8\"},\"line\":{\"color\":\"white\"}},\"header\":{\"fill\":{\"color\":\"#C8D4E3\"},\"line\":{\"color\":\"white\"}},\"type\":\"table\"}],\"barpolar\":[{\"marker\":{\"line\":{\"color\":\"#E5ECF6\",\"width\":0.5},\"pattern\":{\"fillmode\":\"overlay\",\"size\":10,\"solidity\":0.2}},\"type\":\"barpolar\"}],\"pie\":[{\"automargin\":true,\"type\":\"pie\"}]},\"layout\":{\"autotypenumbers\":\"strict\",\"colorway\":[\"#636efa\",\"#EF553B\",\"#00cc96\",\"#ab63fa\",\"#FFA15A\",\"#19d3f3\",\"#FF6692\",\"#B6E880\",\"#FF97FF\",\"#FECB52\"],\"font\":{\"color\":\"#2a3f5f\"},\"hovermode\":\"closest\",\"hoverlabel\":{\"align\":\"left\"},\"paper_bgcolor\":\"white\",\"plot_bgcolor\":\"#E5ECF6\",\"polar\":{\"bgcolor\":\"#E5ECF6\",\"angularaxis\":{\"gridcolor\":\"white\",\"linecolor\":\"white\",\"ticks\":\"\"},\"radialaxis\":{\"gridcolor\":\"white\",\"linecolor\":\"white\",\"ticks\":\"\"}},\"ternary\":{\"bgcolor\":\"#E5ECF6\",\"aaxis\":{\"gridcolor\":\"white\",\"linecolor\":\"white\",\"ticks\":\"\"},\"baxis\":{\"gridcolor\":\"white\",\"linecolor\":\"white\",\"ticks\":\"\"},\"caxis\":{\"gridcolor\":\"white\",\"linecolor\":\"white\",\"ticks\":\"\"}},\"coloraxis\":{\"colorbar\":{\"outlinewidth\":0,\"ticks\":\"\"}},\"colorscale\":{\"sequential\":[[0.0,\"#0d0887\"],[0.1111111111111111,\"#46039f\"],[0.2222222222222222,\"#7201a8\"],[0.3333333333333333,\"#9c179e\"],[0.4444444444444444,\"#bd3786\"],[0.5555555555555556,\"#d8576b\"],[0.6666666666666666,\"#ed7953\"],[0.7777777777777778,\"#fb9f3a\"],[0.8888888888888888,\"#fdca26\"],[1.0,\"#f0f921\"]],\"sequentialminus\":[[0.0,\"#0d0887\"],[0.1111111111111111,\"#46039f\"],[0.2222222222222222,\"#7201a8\"],[0.3333333333333333,\"#9c179e\"],[0.4444444444444444,\"#bd3786\"],[0.5555555555555556,\"#d8576b\"],[0.6666666666666666,\"#ed7953\"],[0.7777777777777778,\"#fb9f3a\"],[0.8888888888888888,\"#fdca26\"],[1.0,\"#f0f921\"]],\"diverging\":[[0,\"#8e0152\"],[0.1,\"#c51b7d\"],[0.2,\"#de77ae\"],[0.3,\"#f1b6da\"],[0.4,\"#fde0ef\"],[0.5,\"#f7f7f7\"],[0.6,\"#e6f5d0\"],[0.7,\"#b8e186\"],[0.8,\"#7fbc41\"],[0.9,\"#4d9221\"],[1,\"#276419\"]]},\"xaxis\":{\"gridcolor\":\"white\",\"linecolor\":\"white\",\"ticks\":\"\",\"title\":{\"standoff\":15},\"zerolinecolor\":\"white\",\"automargin\":true,\"zerolinewidth\":2},\"yaxis\":{\"gridcolor\":\"white\",\"linecolor\":\"white\",\"ticks\":\"\",\"title\":{\"standoff\":15},\"zerolinecolor\":\"white\",\"automargin\":true,\"zerolinewidth\":2},\"scene\":{\"xaxis\":{\"backgroundcolor\":\"#E5ECF6\",\"gridcolor\":\"white\",\"linecolor\":\"white\",\"showbackground\":true,\"ticks\":\"\",\"zerolinecolor\":\"white\",\"gridwidth\":2},\"yaxis\":{\"backgroundcolor\":\"#E5ECF6\",\"gridcolor\":\"white\",\"linecolor\":\"white\",\"showbackground\":true,\"ticks\":\"\",\"zerolinecolor\":\"white\",\"gridwidth\":2},\"zaxis\":{\"backgroundcolor\":\"#E5ECF6\",\"gridcolor\":\"white\",\"linecolor\":\"white\",\"showbackground\":true,\"ticks\":\"\",\"zerolinecolor\":\"white\",\"gridwidth\":2}},\"shapedefaults\":{\"line\":{\"color\":\"#2a3f5f\"}},\"annotationdefaults\":{\"arrowcolor\":\"#2a3f5f\",\"arrowhead\":0,\"arrowwidth\":1},\"geo\":{\"bgcolor\":\"white\",\"landcolor\":\"#E5ECF6\",\"subunitcolor\":\"white\",\"showland\":true,\"showlakes\":true,\"lakecolor\":\"white\"},\"title\":{\"x\":0.05},\"mapbox\":{\"style\":\"light\"}}},\"xaxis\":{\"anchor\":\"y\",\"domain\":[0.0,1.0],\"title\":{\"text\":\"Response\"}},\"yaxis\":{\"anchor\":\"x\",\"domain\":[0.0,1.0],\"autorange\":\"reversed\",\"title\":{\"text\":\"TotalCampPar\"}},\"coloraxis\":{\"colorscale\":[[0.0,\"#0d0887\"],[0.1111111111111111,\"#46039f\"],[0.2222222222222222,\"#7201a8\"],[0.3333333333333333,\"#9c179e\"],[0.4444444444444444,\"#bd3786\"],[0.5555555555555556,\"#d8576b\"],[0.6666666666666666,\"#ed7953\"],[0.7777777777777778,\"#fb9f3a\"],[0.8888888888888888,\"#fdca26\"],[1.0,\"#f0f921\"]]},\"margin\":{\"t\":60}},                        {\"responsive\": true}                    ).then(function(){\n",
       "                            \n",
       "var gd = document.getElementById('320acc9d-ca09-4372-8666-ff969467d5f8');\n",
       "var x = new MutationObserver(function (mutations, observer) {{\n",
       "        var display = window.getComputedStyle(gd).display;\n",
       "        if (!display || display === 'none') {{\n",
       "            console.log([gd, 'removed!']);\n",
       "            Plotly.purge(gd);\n",
       "            observer.disconnect();\n",
       "        }}\n",
       "}});\n",
       "\n",
       "// Listen for the removal of the full notebook cells\n",
       "var notebookContainer = gd.closest('#notebook-container');\n",
       "if (notebookContainer) {{\n",
       "    x.observe(notebookContainer, {childList: true});\n",
       "}}\n",
       "\n",
       "// Listen for the clearing of the current output cell\n",
       "var outputEl = gd.closest('.output');\n",
       "if (outputEl) {{\n",
       "    x.observe(outputEl, {childList: true});\n",
       "}}\n",
       "\n",
       "                        })                };                });            </script>        </div>"
      ]
     },
     "metadata": {},
     "output_type": "display_data"
    },
    {
     "name": "stdout",
     "output_type": "stream",
     "text": [
      "chisquare-score is: 408.01229650215237  and p value is: 0.0\n",
      "Null Hypothesis is rejected.\n"
     ]
    }
   ],
   "source": [
    "relation_categorical_testing(marketing_df, 'TotalCampPar', 'Response')"
   ]
  },
  {
   "cell_type": "code",
   "execution_count": 193,
   "id": "5e6cd5b8",
   "metadata": {},
   "outputs": [],
   "source": [
    "campaigns_list = ['AcceptedCmp1', 'AcceptedCmp2', 'AcceptedCmp3', 'AcceptedCmp4', 'AcceptedCmp5', 'Response'] \n",
    "campaigns_list_name = ['1st Campaign', '2nd Campaign', '3rd Campaign', '4th Campaign', '5th Campaign', 'Current Campaign']\n",
    "\n",
    "percentage_of_accepted_campaigns_list = [round((marketing_df[i].sum(axis=0) / len(marketing_df))*100, 2) for i in campaigns_list]"
   ]
  },
  {
   "cell_type": "code",
   "execution_count": 195,
   "id": "643db0f1",
   "metadata": {},
   "outputs": [
    {
     "data": {
      "text/html": [
       "\n",
       "        <iframe\n",
       "            width=\"100%\"\n",
       "            height=\"650\"\n",
       "            src=\"http://127.0.0.1:8050/\"\n",
       "            frameborder=\"0\"\n",
       "            allowfullscreen\n",
       "            \n",
       "        ></iframe>\n",
       "        "
      ],
      "text/plain": [
       "<IPython.lib.display.IFrame at 0x17e39f5a3a0>"
      ]
     },
     "metadata": {},
     "output_type": "display_data"
    }
   ],
   "source": [
    "app = JupyterDash(__name__)\n",
    "\n",
    "fig = px.bar(x = campaigns_list_name, \n",
    "             y = percentage_of_accepted_campaigns_list, \n",
    "             color = percentage_of_accepted_campaigns_list,\n",
    "             labels = {'x' : 'Campaign Number', 'y' : 'Percentage of Accepted Campaigns'},\n",
    "             title = 'Accepted Campaigns vs Campaign Number',\n",
    "             text_auto = True)\n",
    "\n",
    "fig.update_layout(xaxis={'categoryorder':'total descending'})\n",
    "\n",
    "app.layout = html.Div([\n",
    "    dcc.Graph(figure=fig)\n",
    "])\n",
    "\n",
    "app.run_server(mode='inline')"
   ]
  }
 ],
 "metadata": {
  "kernelspec": {
   "display_name": "Python 3 (ipykernel)",
   "language": "python",
   "name": "python3"
  },
  "language_info": {
   "codemirror_mode": {
    "name": "ipython",
    "version": 3
   },
   "file_extension": ".py",
   "mimetype": "text/x-python",
   "name": "python",
   "nbconvert_exporter": "python",
   "pygments_lexer": "ipython3",
   "version": "3.9.10"
  }
 },
 "nbformat": 4,
 "nbformat_minor": 5
}
